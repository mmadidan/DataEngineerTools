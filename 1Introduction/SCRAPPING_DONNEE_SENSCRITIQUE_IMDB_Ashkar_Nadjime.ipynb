{
 "cells": [
  {
   "cell_type": "code",
   "execution_count": 1,
   "metadata": {},
   "outputs": [],
   "source": [
    "from selenium import webdriver\n",
    "import time\n",
    "import random as r\n",
    "\n",
    "import requests\n",
    "import io\n",
    "from PIL import Image"
   ]
  },
  {
   "cell_type": "markdown",
   "metadata": {},
   "source": [
    "# SCRAPPING SENS CRITIQUE"
   ]
  },
  {
   "cell_type": "raw",
   "metadata": {},
   "source": [
    "C'est un scrapping qui va se faire en 2 parties :\n",
    "1 - On va déjà récupérer la liste des film correspondant à chaque année(2013 à 2019)\n",
    "2 - On fait un nettoyage de la liste des films puis on va itérer sur ces listes pour accéder à chaque fiche de film et récupérer toutes les infos qui nous interessent"
   ]
  },
  {
   "cell_type": "markdown",
   "metadata": {},
   "source": [
    "1 - RECUPEREATION DE LA LISTE DE NOM DE FILM"
   ]
  },
  {
   "cell_type": "code",
   "execution_count": 5,
   "metadata": {},
   "outputs": [],
   "source": [
    "#La liste des liens où on va faire le scrapping\n",
    "liste_liens = {\n",
    "    2013 : \"https://www.senscritique.com/top/resultats/Les_meilleurs_films_de_2013/173207\",\n",
    "    2014 : \"https://www.senscritique.com/top/resultats/Les_meilleurs_films_de_2014/367137\",\n",
    "    2015 : \"https://www.senscritique.com/top/resultats/Les_meilleurs_films_de_2015/703337\",\n",
    "    2016 : \"https://www.senscritique.com/top/resultats/Les_meilleurs_films_de_2016/1152822\",\n",
    "    2017 : \"https://www.senscritique.com/top/resultats/Les_meilleurs_films_de_2017/1522840\",\n",
    "    2018 : \"https://www.senscritique.com/top/resultats/Les_meilleurs_films_de_2018/1757790\",\n",
    "    2019 : \"https://www.senscritique.com/top/resultats/Les_meilleurs_films_de_2019/2301802\"\n",
    "}\n"
   ]
  },
  {
   "cell_type": "code",
   "execution_count": 3,
   "metadata": {},
   "outputs": [],
   "source": [
    "liste_nom_film = []\n",
    "IS_LINUX = False\n",
    "chrome = webdriver.Chrome(executable_path=\"./chromedriver\" if not IS_LINUX else \"./chromedriver_linux\")"
   ]
  },
  {
   "cell_type": "code",
   "execution_count": 6,
   "metadata": {},
   "outputs": [
    {
     "data": {
      "text/plain": [
       "9"
      ]
     },
     "execution_count": 6,
     "metadata": {},
     "output_type": "execute_result"
    }
   ],
   "source": [
    "for i in range(2013, 2020):\n",
    "    chrome.get(liste_liens[i])\n",
    "    chrome.execute_script(\"window.scrollTo(0, document.body.scrollHeight);\") \n",
    "    time.sleep(1)\n",
    "    \n",
    "    all_widgets = chrome.find_elements_by_class_name(\"d-rubric\")\n",
    "    first_line = all_widgets[0]\n",
    "    all_first_line_elements = first_line.find_elements_by_class_name('elpo-item')\n",
    "    \n",
    "    def extract_title(offer_web_element):\n",
    "        lst_title = []\n",
    "        for j in range(len(offer_web_element)):\n",
    "            d = offer_web_element[j].text\n",
    "            d = d.split(\"\\n\")\n",
    "            d = d[1]\n",
    "            d = d.split(\"(\"+str(i)+\")\")\n",
    "            lst_title.append(d[0][0:-1])\n",
    "        return lst_title\n",
    "    \n",
    "    liste_nom_film.append(extract_title(all_first_line_elements))\n",
    "    \n",
    "    \n",
    "len(liste_nom_film)"
   ]
  },
  {
   "cell_type": "code",
   "execution_count": 8,
   "metadata": {},
   "outputs": [
    {
     "ename": "IndexError",
     "evalue": "list assignment index out of range",
     "output_type": "error",
     "traceback": [
      "\u001b[0;31m---------------------------------------------------------------------------\u001b[0m",
      "\u001b[0;31mIndexError\u001b[0m                                Traceback (most recent call last)",
      "\u001b[0;32m<ipython-input-8-6fb4376525cf>\u001b[0m in \u001b[0;36m<module>\u001b[0;34m\u001b[0m\n\u001b[1;32m     13\u001b[0m                 \u001b[0mdoubles\u001b[0m\u001b[0;34m.\u001b[0m\u001b[0mappend\u001b[0m\u001b[0;34m(\u001b[0m\u001b[0;34m[\u001b[0m\u001b[0mi\u001b[0m\u001b[0;34m,\u001b[0m\u001b[0mj\u001b[0m\u001b[0;34m]\u001b[0m\u001b[0;34m)\u001b[0m\u001b[0;34m\u001b[0m\u001b[0;34m\u001b[0m\u001b[0m\n\u001b[1;32m     14\u001b[0m \u001b[0;32mfor\u001b[0m \u001b[0mcopie\u001b[0m \u001b[0;32min\u001b[0m \u001b[0mdoubles\u001b[0m\u001b[0;34m:\u001b[0m\u001b[0;34m\u001b[0m\u001b[0;34m\u001b[0m\u001b[0m\n\u001b[0;32m---> 15\u001b[0;31m     \u001b[0;32mdel\u001b[0m \u001b[0mliste_nom_film\u001b[0m\u001b[0;34m[\u001b[0m\u001b[0mcopie\u001b[0m\u001b[0;34m[\u001b[0m\u001b[0;36m0\u001b[0m\u001b[0;34m]\u001b[0m\u001b[0;34m]\u001b[0m\u001b[0;34m[\u001b[0m\u001b[0mcopie\u001b[0m\u001b[0;34m[\u001b[0m\u001b[0;36m1\u001b[0m\u001b[0;34m]\u001b[0m\u001b[0;34m]\u001b[0m\u001b[0;34m\u001b[0m\u001b[0;34m\u001b[0m\u001b[0m\n\u001b[0m",
      "\u001b[0;31mIndexError\u001b[0m: list assignment index out of range"
     ]
    }
   ],
   "source": [
    "#On va nettoyer la liste que nous venons de récupérer\n",
    "for i in range(len(liste_nom_film)):\n",
    "    for j in range(len(liste_nom_film[i])):\n",
    "        if \" (20\" in liste_nom_film[i][j]:\n",
    "            liste_nom_film[i][j] = liste_nom_film[i][j].split(\" (20\")[0]\n",
    "\n",
    "doubles = []\n",
    "for i in range(len(liste_nom_film)):\n",
    "    for j in range(len(liste_nom_film[i])):\n",
    "        film = liste_nom_film[i][j]\n",
    "        for k in range(7):\n",
    "            if film in liste_nom_film[k] and k!=i:\n",
    "                doubles.append([i,j])\n",
    "for copie in doubles:\n",
    "    del liste_nom_film[copie[0]][copie[1]]"
   ]
  },
  {
   "cell_type": "markdown",
   "metadata": {},
   "source": [
    "2 - Récupération des infos pour chaque film"
   ]
  },
  {
   "cell_type": "code",
   "execution_count": 9,
   "metadata": {},
   "outputs": [],
   "source": [
    "def recuperation_donnee(nom_film):\n",
    "    link = chrome.find_element_by_link_text(nom_film)\n",
    "    link.click()\n",
    "    time.sleep(3)\n",
    "    all_widgets_desc = chrome.find_elements_by_class_name(\"pvi-productDetails\")\n",
    "    description = all_widgets_desc[0].find_elements_by_class_name('pvi-productDetails-item')\n",
    "    a = []\n",
    "    for elt in description:\n",
    "        a.append(elt.text)\n",
    "    type_production = a[0].split(' de ')[0]\n",
    "    if type_production == \"Documentaire\":\n",
    "        style_film = None\n",
    "        realisateur = \",\".join(a[0].split(' de ')[1].split(' et ')).split(\",\")\n",
    "        duree = a[1]\n",
    "        date_de_sortie = a[2]\n",
    "    else:\n",
    "        style_film = \",\".join(a[1].split(' et ')).split(\",\")\n",
    "        realisateur = \",\".join(a[0].split(' de ')[1].split(' et ')).split(\",\")\n",
    "        duree = a[2]\n",
    "        date_de_sortie = a[3]\n",
    "    try:\n",
    "        acteurs = \"\".join(chrome.find_elements_by_class_name('pvi-productDetails-workers')[0].text.split('Avec ')).split(',')\n",
    "    except:\n",
    "        acteurs = None\n",
    "    try:\n",
    "        link = chrome.find_element_by_class_name(\"d-link\")\n",
    "        link.click()\n",
    "        synopsis = chrome.find_elements_by_xpath('/html/body/div[3]/div[2]/div[3]/div/section[1]/p[2]')[0].text.split(' Fermer')[0]\n",
    "        if synopsis=='':\n",
    "            while synopsis=='':\n",
    "                synopsis = chrome.find_elements_by_xpath('/html/body/div[3]/div[2]/div[3]/div/section[1]/p[2]')[0].text.split(' Fermer')[0]        \n",
    "    except:\n",
    "        synopsis = chrome.find_elements_by_class_name('pvi-productDetails-resume')[0].text\n",
    "  \n",
    "        \n",
    "    charts = chrome.find_elements_by_class_name(\"pvi-product-scrating\")\n",
    "    c = [elt.text+ \"\\n\"  for elt in charts]\n",
    "    c = c[0].split(\"\\n\")\n",
    "    repartition_note = c[1].split(\" \")\n",
    "    for j in range(len(repartition_note)):\n",
    "        repartition_note[j] = int(repartition_note[j])\n",
    "   \n",
    "    dico_film = {\"nom_film\" : nom_film,\n",
    "                 \"type_production\" : type_production,\n",
    "                 \"theme_production\" :style_film,\n",
    "                 \"Synopsis\" : synopsis, \n",
    "                 \"Realisateur\" : realisateur,  \n",
    "                 \"duree_film\" : duree, \n",
    "                 \"sortie_film\" : date_de_sortie,\n",
    "                 \"acteurs_principaux\" : acteurs,\n",
    "                 \"charts_SENSCRITIQUE\" : {\"note_moyenne\" : float(c[0]), \"nombre_critiques\" : sum(repartition_note), \"repartition_note\":repartition_note}\n",
    "        }\n",
    "    \n",
    "    return dico_film"
   ]
  },
  {
   "cell_type": "code",
   "execution_count": 10,
   "metadata": {},
   "outputs": [
    {
     "data": {
      "text/plain": [
       "'\\nlst_dico = []\\nfor i in range(2013, 2020):\\n    chrome.get(liste_liens[i])\\n    for j in range(len(liste_nom_film[i-2013])):\\n        chrome.execute_script(\"window.scrollTo(0, document.body.scrollHeight);\") \\n        time.sleep(1)\\n        chrome.execute_script(\"scrollTo(0, 0);\")\\n        lst_dico.append(recuperation_donnee(liste_nom_film[i-2013][j]))\\n\\n        #ON RECUP TOUTES LES CHARTS LIE AU FILM\\n\\n        #ON REPART SUR LA PAGE DE BASE ET ON REFAIT TOUT CE QU\\'ON VIENT DE VOIR POUR UN AUTRE FILM\\n        chrome.get(liste_liens[i])\\n        chrome.execute_script(\"window.scrollTo(0, document.body.scrollHeight);\") \\n        time.sleep(1)\\n        chrome.execute_script(\"scrollTo(0, 0);\")\\n'"
      ]
     },
     "execution_count": 10,
     "metadata": {},
     "output_type": "execute_result"
    }
   ],
   "source": [
    "#Commande qui prend beaucoup de temps(environ 2h qui va scrappé toutes les infos)\n",
    "\"\"\"\n",
    "lst_dico = []\n",
    "for i in range(2013, 2020):\n",
    "    chrome.get(liste_liens[i])\n",
    "    for j in range(len(liste_nom_film[i-2013])):\n",
    "        chrome.execute_script(\"window.scrollTo(0, document.body.scrollHeight);\") \n",
    "        time.sleep(1)\n",
    "        chrome.execute_script(\"scrollTo(0, 0);\")\n",
    "        lst_dico.append(recuperation_donnee(liste_nom_film[i-2013][j]))\n",
    "\n",
    "        #ON RECUP TOUTES LES CHARTS LIE AU FILM\n",
    "\n",
    "        #ON REPART SUR LA PAGE DE BASE ET ON REFAIT TOUT CE QU'ON VIENT DE VOIR POUR UN AUTRE FILM\n",
    "        chrome.get(liste_liens[i])\n",
    "        chrome.execute_script(\"window.scrollTo(0, document.body.scrollHeight);\") \n",
    "        time.sleep(1)\n",
    "        chrome.execute_script(\"scrollTo(0, 0);\")\n",
    "\"\"\"\n"
   ]
  },
  {
   "cell_type": "code",
   "execution_count": 11,
   "metadata": {},
   "outputs": [
    {
     "ename": "ElementClickInterceptedException",
     "evalue": "Message: element click intercepted: Element <a href=\"/film/Le_Hobbit_La_Desolation_de_Smaug/441146\" class=\"elco-anchor\" id=\"product-title-441146\">...</a> is not clickable at point (366, 645). Other element would receive the click: <div class=\"sd-cmp-141od\">...</div>\n  (Session info: chrome=88.0.4324.146)\n",
     "output_type": "error",
     "traceback": [
      "\u001b[0;31m---------------------------------------------------------------------------\u001b[0m",
      "\u001b[0;31mElementClickInterceptedException\u001b[0m          Traceback (most recent call last)",
      "\u001b[0;32m<ipython-input-11-d81110d61e4e>\u001b[0m in \u001b[0;36m<module>\u001b[0;34m\u001b[0m\n\u001b[1;32m     14\u001b[0m     \u001b[0;32mreturn\u001b[0m \u001b[0mfilm\u001b[0m\u001b[0;34m,\u001b[0m \u001b[0mrecuperation_donnee\u001b[0m\u001b[0;34m(\u001b[0m\u001b[0mfilm\u001b[0m\u001b[0;34m)\u001b[0m\u001b[0;34m\u001b[0m\u001b[0;34m\u001b[0m\u001b[0m\n\u001b[1;32m     15\u001b[0m \u001b[0;34m\u001b[0m\u001b[0m\n\u001b[0;32m---> 16\u001b[0;31m \u001b[0mtest_SENSCRITIQUE\u001b[0m\u001b[0;34m(\u001b[0m\u001b[0;34m)\u001b[0m\u001b[0;34m\u001b[0m\u001b[0;34m\u001b[0m\u001b[0m\n\u001b[0m",
      "\u001b[0;32m<ipython-input-11-d81110d61e4e>\u001b[0m in \u001b[0;36mtest_SENSCRITIQUE\u001b[0;34m()\u001b[0m\n\u001b[1;32m     12\u001b[0m     \u001b[0mchrome\u001b[0m\u001b[0;34m.\u001b[0m\u001b[0mexecute_script\u001b[0m\u001b[0;34m(\u001b[0m\u001b[0;34m\"scrollTo(0, 0);\"\u001b[0m\u001b[0;34m)\u001b[0m\u001b[0;34m\u001b[0m\u001b[0;34m\u001b[0m\u001b[0m\n\u001b[1;32m     13\u001b[0m \u001b[0;34m\u001b[0m\u001b[0m\n\u001b[0;32m---> 14\u001b[0;31m     \u001b[0;32mreturn\u001b[0m \u001b[0mfilm\u001b[0m\u001b[0;34m,\u001b[0m \u001b[0mrecuperation_donnee\u001b[0m\u001b[0;34m(\u001b[0m\u001b[0mfilm\u001b[0m\u001b[0;34m)\u001b[0m\u001b[0;34m\u001b[0m\u001b[0;34m\u001b[0m\u001b[0m\n\u001b[0m\u001b[1;32m     15\u001b[0m \u001b[0;34m\u001b[0m\u001b[0m\n\u001b[1;32m     16\u001b[0m \u001b[0mtest_SENSCRITIQUE\u001b[0m\u001b[0;34m(\u001b[0m\u001b[0;34m)\u001b[0m\u001b[0;34m\u001b[0m\u001b[0;34m\u001b[0m\u001b[0m\n",
      "\u001b[0;32m<ipython-input-9-b4479f0d517c>\u001b[0m in \u001b[0;36mrecuperation_donnee\u001b[0;34m(nom_film)\u001b[0m\n\u001b[1;32m      1\u001b[0m \u001b[0;32mdef\u001b[0m \u001b[0mrecuperation_donnee\u001b[0m\u001b[0;34m(\u001b[0m\u001b[0mnom_film\u001b[0m\u001b[0;34m)\u001b[0m\u001b[0;34m:\u001b[0m\u001b[0;34m\u001b[0m\u001b[0;34m\u001b[0m\u001b[0m\n\u001b[1;32m      2\u001b[0m     \u001b[0mlink\u001b[0m \u001b[0;34m=\u001b[0m \u001b[0mchrome\u001b[0m\u001b[0;34m.\u001b[0m\u001b[0mfind_element_by_link_text\u001b[0m\u001b[0;34m(\u001b[0m\u001b[0mnom_film\u001b[0m\u001b[0;34m)\u001b[0m\u001b[0;34m\u001b[0m\u001b[0;34m\u001b[0m\u001b[0m\n\u001b[0;32m----> 3\u001b[0;31m     \u001b[0mlink\u001b[0m\u001b[0;34m.\u001b[0m\u001b[0mclick\u001b[0m\u001b[0;34m(\u001b[0m\u001b[0;34m)\u001b[0m\u001b[0;34m\u001b[0m\u001b[0;34m\u001b[0m\u001b[0m\n\u001b[0m\u001b[1;32m      4\u001b[0m     \u001b[0mtime\u001b[0m\u001b[0;34m.\u001b[0m\u001b[0msleep\u001b[0m\u001b[0;34m(\u001b[0m\u001b[0;36m3\u001b[0m\u001b[0;34m)\u001b[0m\u001b[0;34m\u001b[0m\u001b[0;34m\u001b[0m\u001b[0m\n\u001b[1;32m      5\u001b[0m     \u001b[0mall_widgets_desc\u001b[0m \u001b[0;34m=\u001b[0m \u001b[0mchrome\u001b[0m\u001b[0;34m.\u001b[0m\u001b[0mfind_elements_by_class_name\u001b[0m\u001b[0;34m(\u001b[0m\u001b[0;34m\"pvi-productDetails\"\u001b[0m\u001b[0;34m)\u001b[0m\u001b[0;34m\u001b[0m\u001b[0;34m\u001b[0m\u001b[0m\n",
      "\u001b[0;32m/opt/anaconda3/lib/python3.8/site-packages/selenium/webdriver/remote/webelement.py\u001b[0m in \u001b[0;36mclick\u001b[0;34m(self)\u001b[0m\n\u001b[1;32m     78\u001b[0m     \u001b[0;32mdef\u001b[0m \u001b[0mclick\u001b[0m\u001b[0;34m(\u001b[0m\u001b[0mself\u001b[0m\u001b[0;34m)\u001b[0m\u001b[0;34m:\u001b[0m\u001b[0;34m\u001b[0m\u001b[0;34m\u001b[0m\u001b[0m\n\u001b[1;32m     79\u001b[0m         \u001b[0;34m\"\"\"Clicks the element.\"\"\"\u001b[0m\u001b[0;34m\u001b[0m\u001b[0;34m\u001b[0m\u001b[0m\n\u001b[0;32m---> 80\u001b[0;31m         \u001b[0mself\u001b[0m\u001b[0;34m.\u001b[0m\u001b[0m_execute\u001b[0m\u001b[0;34m(\u001b[0m\u001b[0mCommand\u001b[0m\u001b[0;34m.\u001b[0m\u001b[0mCLICK_ELEMENT\u001b[0m\u001b[0;34m)\u001b[0m\u001b[0;34m\u001b[0m\u001b[0;34m\u001b[0m\u001b[0m\n\u001b[0m\u001b[1;32m     81\u001b[0m \u001b[0;34m\u001b[0m\u001b[0m\n\u001b[1;32m     82\u001b[0m     \u001b[0;32mdef\u001b[0m \u001b[0msubmit\u001b[0m\u001b[0;34m(\u001b[0m\u001b[0mself\u001b[0m\u001b[0;34m)\u001b[0m\u001b[0;34m:\u001b[0m\u001b[0;34m\u001b[0m\u001b[0;34m\u001b[0m\u001b[0m\n",
      "\u001b[0;32m/opt/anaconda3/lib/python3.8/site-packages/selenium/webdriver/remote/webelement.py\u001b[0m in \u001b[0;36m_execute\u001b[0;34m(self, command, params)\u001b[0m\n\u001b[1;32m    631\u001b[0m             \u001b[0mparams\u001b[0m \u001b[0;34m=\u001b[0m \u001b[0;34m{\u001b[0m\u001b[0;34m}\u001b[0m\u001b[0;34m\u001b[0m\u001b[0;34m\u001b[0m\u001b[0m\n\u001b[1;32m    632\u001b[0m         \u001b[0mparams\u001b[0m\u001b[0;34m[\u001b[0m\u001b[0;34m'id'\u001b[0m\u001b[0;34m]\u001b[0m \u001b[0;34m=\u001b[0m \u001b[0mself\u001b[0m\u001b[0;34m.\u001b[0m\u001b[0m_id\u001b[0m\u001b[0;34m\u001b[0m\u001b[0;34m\u001b[0m\u001b[0m\n\u001b[0;32m--> 633\u001b[0;31m         \u001b[0;32mreturn\u001b[0m \u001b[0mself\u001b[0m\u001b[0;34m.\u001b[0m\u001b[0m_parent\u001b[0m\u001b[0;34m.\u001b[0m\u001b[0mexecute\u001b[0m\u001b[0;34m(\u001b[0m\u001b[0mcommand\u001b[0m\u001b[0;34m,\u001b[0m \u001b[0mparams\u001b[0m\u001b[0;34m)\u001b[0m\u001b[0;34m\u001b[0m\u001b[0;34m\u001b[0m\u001b[0m\n\u001b[0m\u001b[1;32m    634\u001b[0m \u001b[0;34m\u001b[0m\u001b[0m\n\u001b[1;32m    635\u001b[0m     \u001b[0;32mdef\u001b[0m \u001b[0mfind_element\u001b[0m\u001b[0;34m(\u001b[0m\u001b[0mself\u001b[0m\u001b[0;34m,\u001b[0m \u001b[0mby\u001b[0m\u001b[0;34m=\u001b[0m\u001b[0mBy\u001b[0m\u001b[0;34m.\u001b[0m\u001b[0mID\u001b[0m\u001b[0;34m,\u001b[0m \u001b[0mvalue\u001b[0m\u001b[0;34m=\u001b[0m\u001b[0;32mNone\u001b[0m\u001b[0;34m)\u001b[0m\u001b[0;34m:\u001b[0m\u001b[0;34m\u001b[0m\u001b[0;34m\u001b[0m\u001b[0m\n",
      "\u001b[0;32m/opt/anaconda3/lib/python3.8/site-packages/selenium/webdriver/remote/webdriver.py\u001b[0m in \u001b[0;36mexecute\u001b[0;34m(self, driver_command, params)\u001b[0m\n\u001b[1;32m    319\u001b[0m         \u001b[0mresponse\u001b[0m \u001b[0;34m=\u001b[0m \u001b[0mself\u001b[0m\u001b[0;34m.\u001b[0m\u001b[0mcommand_executor\u001b[0m\u001b[0;34m.\u001b[0m\u001b[0mexecute\u001b[0m\u001b[0;34m(\u001b[0m\u001b[0mdriver_command\u001b[0m\u001b[0;34m,\u001b[0m \u001b[0mparams\u001b[0m\u001b[0;34m)\u001b[0m\u001b[0;34m\u001b[0m\u001b[0;34m\u001b[0m\u001b[0m\n\u001b[1;32m    320\u001b[0m         \u001b[0;32mif\u001b[0m \u001b[0mresponse\u001b[0m\u001b[0;34m:\u001b[0m\u001b[0;34m\u001b[0m\u001b[0;34m\u001b[0m\u001b[0m\n\u001b[0;32m--> 321\u001b[0;31m             \u001b[0mself\u001b[0m\u001b[0;34m.\u001b[0m\u001b[0merror_handler\u001b[0m\u001b[0;34m.\u001b[0m\u001b[0mcheck_response\u001b[0m\u001b[0;34m(\u001b[0m\u001b[0mresponse\u001b[0m\u001b[0;34m)\u001b[0m\u001b[0;34m\u001b[0m\u001b[0;34m\u001b[0m\u001b[0m\n\u001b[0m\u001b[1;32m    322\u001b[0m             response['value'] = self._unwrap_value(\n\u001b[1;32m    323\u001b[0m                 response.get('value', None))\n",
      "\u001b[0;32m/opt/anaconda3/lib/python3.8/site-packages/selenium/webdriver/remote/errorhandler.py\u001b[0m in \u001b[0;36mcheck_response\u001b[0;34m(self, response)\u001b[0m\n\u001b[1;32m    240\u001b[0m                 \u001b[0malert_text\u001b[0m \u001b[0;34m=\u001b[0m \u001b[0mvalue\u001b[0m\u001b[0;34m[\u001b[0m\u001b[0;34m'alert'\u001b[0m\u001b[0;34m]\u001b[0m\u001b[0;34m.\u001b[0m\u001b[0mget\u001b[0m\u001b[0;34m(\u001b[0m\u001b[0;34m'text'\u001b[0m\u001b[0;34m)\u001b[0m\u001b[0;34m\u001b[0m\u001b[0;34m\u001b[0m\u001b[0m\n\u001b[1;32m    241\u001b[0m             \u001b[0;32mraise\u001b[0m \u001b[0mexception_class\u001b[0m\u001b[0;34m(\u001b[0m\u001b[0mmessage\u001b[0m\u001b[0;34m,\u001b[0m \u001b[0mscreen\u001b[0m\u001b[0;34m,\u001b[0m \u001b[0mstacktrace\u001b[0m\u001b[0;34m,\u001b[0m \u001b[0malert_text\u001b[0m\u001b[0;34m)\u001b[0m\u001b[0;34m\u001b[0m\u001b[0;34m\u001b[0m\u001b[0m\n\u001b[0;32m--> 242\u001b[0;31m         \u001b[0;32mraise\u001b[0m \u001b[0mexception_class\u001b[0m\u001b[0;34m(\u001b[0m\u001b[0mmessage\u001b[0m\u001b[0;34m,\u001b[0m \u001b[0mscreen\u001b[0m\u001b[0;34m,\u001b[0m \u001b[0mstacktrace\u001b[0m\u001b[0;34m)\u001b[0m\u001b[0;34m\u001b[0m\u001b[0;34m\u001b[0m\u001b[0m\n\u001b[0m\u001b[1;32m    243\u001b[0m \u001b[0;34m\u001b[0m\u001b[0m\n\u001b[1;32m    244\u001b[0m     \u001b[0;32mdef\u001b[0m \u001b[0m_value_or_default\u001b[0m\u001b[0;34m(\u001b[0m\u001b[0mself\u001b[0m\u001b[0;34m,\u001b[0m \u001b[0mobj\u001b[0m\u001b[0;34m,\u001b[0m \u001b[0mkey\u001b[0m\u001b[0;34m,\u001b[0m \u001b[0mdefault\u001b[0m\u001b[0;34m)\u001b[0m\u001b[0;34m:\u001b[0m\u001b[0;34m\u001b[0m\u001b[0;34m\u001b[0m\u001b[0m\n",
      "\u001b[0;31mElementClickInterceptedException\u001b[0m: Message: element click intercepted: Element <a href=\"/film/Le_Hobbit_La_Desolation_de_Smaug/441146\" class=\"elco-anchor\" id=\"product-title-441146\">...</a> is not clickable at point (366, 645). Other element would receive the click: <div class=\"sd-cmp-141od\">...</div>\n  (Session info: chrome=88.0.4324.146)\n"
     ]
    }
   ],
   "source": [
    "#PROGRAMME DE TEST(Pour prouver que le scrapping marche) SENSCRITIQUE\n",
    "def test_SENSCRITIQUE():\n",
    "    liste_alea = liste_nom_film[r.randint(0,len(liste_nom_film)-1)]\n",
    "    film  = liste_alea[r.randint(0,len(liste_alea)-1)]\n",
    "    for i in range(len(liste_nom_film)):\n",
    "        if liste_nom_film[i] == liste_alea:\n",
    "            j=i\n",
    "\n",
    "    chrome.get(liste_liens[2013+j])\n",
    "    chrome.execute_script(\"window.scrollTo(0, document.body.scrollHeight);\")   \n",
    "    time.sleep(1)\n",
    "    chrome.execute_script(\"scrollTo(0, 0);\")\n",
    "\n",
    "    return film, recuperation_donnee(film)\n",
    "\n",
    "test_SENSCRITIQUE()"
   ]
  },
  {
   "cell_type": "code",
   "execution_count": 7,
   "metadata": {},
   "outputs": [
    {
     "data": {
      "text/plain": [
       "[{'nom_film': 'La Stratégie Ender',\n",
       "  'type_production': 'Film',\n",
       "  'theme_production': ['Action', ' aventure', 'science-fiction'],\n",
       "  'Synopsis': \"Un jeune garçon surdoué suit une formation militaire réservée à l'élite pour sauver l'espèce humaine d'une éventuelle invasion extraterrestre.\",\n",
       "  'Realisateur': ['Gavin Hood'],\n",
       "  'duree_film': '1 h 54 min',\n",
       "  'sortie_film': '1 novembre 2013',\n",
       "  'acteurs_principaux': ['Asa Butterfield', ' Harrison Ford', ' Ben Kingsley'],\n",
       "  'charts_SENSCRITIQUE': {'note_moyenne': 5.6,\n",
       "   'nombre_critiques': 11994,\n",
       "   'repartition_note': [170,\n",
       "    363,\n",
       "    686,\n",
       "    1359,\n",
       "    2201,\n",
       "    3155,\n",
       "    2504,\n",
       "    1115,\n",
       "    303,\n",
       "    138]}},\n",
       " {'nom_film': 'The Florida Project',\n",
       "  'type_production': 'Film',\n",
       "  'theme_production': ['Drame'],\n",
       "  'Synopsis': 'Moonee a 6 ans et un sacré caractère.\\nLâchée en toute liberté dans un motel de la banlieue de Disney world, elle y fait les 400 coups avec sa petite bande de gamins insolents.\\nSes incartades ne semblent pas trop inquiéter Hally, sa très jeune mère.\\nEn situation précaire comme tous les habitants du motel, celle-ci est en effet trop concentrée sur des plans plus ou moins honnêtes pour assurer leur quotidien…',\n",
       "  'Realisateur': ['Sean Baker'],\n",
       "  'duree_film': '1 h 51 min',\n",
       "  'sortie_film': '20 décembre 2017',\n",
       "  'acteurs_principaux': ['Brooklynn Prince', ' Bria Vinaite', ' Willem Dafoe'],\n",
       "  'charts_SENSCRITIQUE': {'note_moyenne': 7.0,\n",
       "   'nombre_critiques': 7165,\n",
       "   'repartition_note': [17, 25, 62, 166, 407, 1169, 2653, 1917, 604, 145]}},\n",
       " {'nom_film': 'The Assassin',\n",
       "  'type_production': 'Film',\n",
       "  'theme_production': ['Arts martiaux', 'drame'],\n",
       "  'Synopsis': 'Chine, IXe siècle. Alors que la province de Weibo tente de se soustraire à l’autorité impériale, Nie Yinniang revient dans sa famille après de longues années d’exil. Son éducation a été confiée à une nonne qui l’a initiée, dans le plus grand secret, aux arts martiaux. Devenue justicière, elle a... Lire la suite',\n",
       "  'Realisateur': ['Hou Hsiao-hsien'],\n",
       "  'duree_film': '1 h 45 min',\n",
       "  'sortie_film': '27 août 2015',\n",
       "  'acteurs_principaux': ['Shu Qi', ' Chang Chen', ' Nikki Hsieh Hsin-ying'],\n",
       "  'charts_SENSCRITIQUE': {'note_moyenne': 6.3,\n",
       "   'nombre_critiques': 5222,\n",
       "   'repartition_note': [43, 118, 218, 464, 757, 1060, 1233, 835, 379, 115]}},\n",
       " {'nom_film': 'Shazam!',\n",
       "  'type_production': 'Film',\n",
       "  'theme_production': ['Action', ' fantastique', ' science-fiction'],\n",
       "  'Synopsis': 'On a tous un super-héros qui sommeille au fond de soi… il faut juste un peu de magie pour le réveiller. Pour Billy Batson, gamin débrouillard de 14 ans placé dans une famille d’accueil, il suffit de crier Shazam ! pour se transformer en super-héros. Ado dans un corps d’adulte sculpté à la... Lire la suite',\n",
       "  'Realisateur': ['David F. Sandberg'],\n",
       "  'duree_film': '2 h 12 min',\n",
       "  'sortie_film': '3 avril 2019',\n",
       "  'acteurs_principaux': ['Zachary Levi', ' Mark Strong', ' Asher Angel'],\n",
       "  'charts_SENSCRITIQUE': {'note_moyenne': 5.5,\n",
       "   'nombre_critiques': 8975,\n",
       "   'repartition_note': [124, 229, 552, 1111, 2043, 2652, 1681, 444, 76, 63]}},\n",
       " {'nom_film': 'Le Passé',\n",
       "  'type_production': 'Film',\n",
       "  'theme_production': ['Drame'],\n",
       "  'Synopsis': \"Après quatre années de séparation, Ahmad arrive à Paris depuis Téhéran, à la demande de Marie, son épouse française, pour procéder aux formalités de leur divorce. Lors de son bref séjour, Ahmad découvre la relation conflictuelle que Marie entretient avec sa fille, Lucie. Les efforts d'Ahmad pour tenter d'améliorer cette relation lèveront le voile sur un secret du passé.\",\n",
       "  'Realisateur': ['Asghar Farhadi'],\n",
       "  'duree_film': '2 h 10 min',\n",
       "  'sortie_film': '17 mai 2013',\n",
       "  'acteurs_principaux': ['Bérénice Bejo', ' Tahar Rahim', ' Ali Mosaffa'],\n",
       "  'charts_SENSCRITIQUE': {'note_moyenne': 6.8,\n",
       "   'nombre_critiques': 5552,\n",
       "   'repartition_note': [17, 43, 106, 228, 461, 1096, 1799, 1384, 350, 68]}}]"
      ]
     },
     "execution_count": 7,
     "metadata": {},
     "output_type": "execute_result"
    }
   ],
   "source": [
    "#TEST POUR LA SUITE A EXECUTER POUR POUVOIR TESTER LE SCRAPPING SUR IMDB\n",
    "lst_dico = []\n",
    "for i in range(5):\n",
    "    a = test_SENSCRITIQUE()\n",
    "    while a[1] in lst_dico:\n",
    "        a = test_SENSCRITIQUE()\n",
    "    lst_dico.append(a[1])\n",
    "    \n",
    "lst_dico \n",
    "    "
   ]
  },
  {
   "cell_type": "markdown",
   "metadata": {},
   "source": [
    "# SCRAPPING IMDB"
   ]
  },
  {
   "cell_type": "code",
   "execution_count": 8,
   "metadata": {},
   "outputs": [],
   "source": [
    "def c_film(film):\n",
    "    return \"_\".join(\"_\".join(\"_\".join(film.split(' ')).split(\":\")).split('-'))\n",
    "\n",
    "def indice_nom_film(nom_film, liste_film):\n",
    "    for i in range(len(liste_film)):\n",
    "        if nom_film == liste_film[i]['nom_film']:\n",
    "            return i\n",
    "        \n",
    "def scrapping_IMDB(nom_film, liste_film, chemin_dossier_image):\n",
    "    chrome.get(\"https://www.imdb.com/\")\n",
    "    inputElement = chrome.find_element_by_id(\"suggestion-search\")\n",
    "    inputElement.send_keys(nom_film)\n",
    "    inputElement.submit() \n",
    "    time.sleep(1)\n",
    "    \n",
    "    j = indice_nom_film(nom_film, liste_film)\n",
    "    annee = int(liste_film[j]['sortie_film'][-4:])\n",
    "    indice = 0\n",
    "    \n",
    "    t = chrome.find_element_by_class_name('findSection').text.split('\\n')\n",
    "    for i in range(len(t)):\n",
    "        if str(annee) in t[i] and \"(TV Episode)\" not in t[i] and \"(TV Series)\" not in t[i] and \"(Video)\" not in t[i] and \"(Short)\" not in t[i] and \"(TV Mini-Series)\" not in t[i]:\n",
    "            indice = i\n",
    "            break \n",
    "        elif str(annee+1) in t[i] and \"(TV Episode)\" not in t[i] and \"(TV Series)\" not in t[i] and \"(Video)\" not in t[i] and \"(Short)\" not in t[i] and \"(TV Mini-Series)\" not in t[i]:\n",
    "            indice = i\n",
    "            break \n",
    "        elif str(annee-1) in t[i] and \"(TV Episode)\" not in t[i] and \"(TV Series)\" not in t[i] and \"(Video)\" not in t[i] and \"(Short)\" not in t[i] and \"(TV Mini-Series)\" not in t[i]:\n",
    "            indice = i\n",
    "            break \n",
    "    \n",
    "    link = chrome.find_element_by_link_text(chrome.find_element_by_class_name('findSection').text.split('\\n')[indice].split(' (')[0])\n",
    "    link.click()\n",
    "    time.sleep(1)\n",
    "    \n",
    "    #On récupère l'image de la fiche et on la sauvegarde\n",
    "    try: \n",
    "        a = chrome.find_element_by_xpath('//*[@id=\"title-overview-widget\"]/div[1]/div[3]/div[1]/a/img')\n",
    "    except:\n",
    "        a = chrome.find_element_by_xpath('//*[@id=\"title-overview-widget\"]/div[2]/div[1]/a/img')\n",
    "    src = a.get_attribute('src')\n",
    "    img = requests.get(src)\n",
    "    image = Image.open(io.BytesIO(img.content))\n",
    " \n",
    "    image.save(str(chemin_dossier_image)+'/'+str(c_film(nom_film))+'_poster.jpg')\n",
    "    \n",
    "    chrome.execute_script(\"window.scrollTo(0, document.body.scrollHeight);\")\n",
    "    chrome.execute_script(\"scrollTo(0, 0);\")\n",
    "    \n",
    "    a = chrome.find_element_by_class_name('ratings_wrapper')\n",
    "    charts_IMDB = [a.text.split('\\n')[0].split('/10')[0], a.text.split('\\n')[1]]\n",
    "    \n",
    "    b = chrome.find_element_by_class_name('titleReviewBar')\n",
    "    charts_METACRITIC = b.text.split(\"\\n\")[0]\n",
    "    \n",
    "    chrome.execute_script(\"window.scrollTo(0, document.body.scrollHeight);\") \n",
    "    \n",
    "    details = chrome.find_element_by_id('titleDetails')\n",
    "    budget = None\n",
    "    Cumulative_WW_Gross = None \n",
    "    location = None \n",
    "    for elm in details.text.split('\\n'):\n",
    "        if \"Budget:\" in elm:\n",
    "            budget = \"\".join(elm.split('Budget:')[1]).split(' (estimated)')[0]\n",
    "        elif \"Cumulative Worldwide Gross:\" in elm:\n",
    "            Cumulative_WW_Gross = elm.split('Cumulative Worldwide Gross: ')[1]\n",
    "        elif \"Country:\" in elm:\n",
    "            location = elm.split('Country: ')[1]\n",
    "\n",
    "    info_details = {'budget' : budget,\n",
    "             'Cumulative_WW_Gross' : Cumulative_WW_Gross,\n",
    "               'location' : location}\n",
    "    liste_film[j]['charts_IMDB'] = charts_IMDB\n",
    "    liste_film[j]['charts_METACRITIC'] = charts_METACRITIC\n",
    "    liste_film[j]['autres_details'] = info_details"
   ]
  },
  {
   "cell_type": "code",
   "execution_count": 110,
   "metadata": {},
   "outputs": [
    {
     "data": {
      "text/plain": [
       "\"\\nfor i in range(len(lst_dico)):\\n    scrapping_IMDB(lst_dico[i]['nom_film'], lst_dico, 'static/poster')\\n\""
      ]
     },
     "execution_count": 110,
     "metadata": {},
     "output_type": "execute_result"
    }
   ],
   "source": [
    "#Comme tout à l'heure cette boucle prend beaucoup de temps(environ 1h)\n",
    "#Si dessous, des instructions pour tester si le scrapping marche réellement\n",
    "\"\"\"\n",
    "for i in range(len(lst_dico)):\n",
    "    scrapping_IMDB(lst_dico[i]['nom_film'], lst_dico, 'static/poster')\n",
    "\"\"\"\n",
    "    "
   ]
  },
  {
   "cell_type": "code",
   "execution_count": 9,
   "metadata": {},
   "outputs": [
    {
     "data": {
      "text/plain": [
       "({'nom_film': 'Le Passé',\n",
       "  'type_production': 'Film',\n",
       "  'theme_production': ['Drame'],\n",
       "  'Synopsis': \"Après quatre années de séparation, Ahmad arrive à Paris depuis Téhéran, à la demande de Marie, son épouse française, pour procéder aux formalités de leur divorce. Lors de son bref séjour, Ahmad découvre la relation conflictuelle que Marie entretient avec sa fille, Lucie. Les efforts d'Ahmad pour tenter d'améliorer cette relation lèveront le voile sur un secret du passé.\",\n",
       "  'Realisateur': ['Asghar Farhadi'],\n",
       "  'duree_film': '2 h 10 min',\n",
       "  'sortie_film': '17 mai 2013',\n",
       "  'acteurs_principaux': ['Bérénice Bejo', ' Tahar Rahim', ' Ali Mosaffa'],\n",
       "  'charts_SENSCRITIQUE': {'note_moyenne': 6.8,\n",
       "   'nombre_critiques': 5552,\n",
       "   'repartition_note': [17, 43, 106, 228, 461, 1096, 1799, 1384, 350, 68]}},\n",
       " {'nom_film': 'Le Passé',\n",
       "  'type_production': 'Film',\n",
       "  'theme_production': ['Drame'],\n",
       "  'Synopsis': \"Après quatre années de séparation, Ahmad arrive à Paris depuis Téhéran, à la demande de Marie, son épouse française, pour procéder aux formalités de leur divorce. Lors de son bref séjour, Ahmad découvre la relation conflictuelle que Marie entretient avec sa fille, Lucie. Les efforts d'Ahmad pour tenter d'améliorer cette relation lèveront le voile sur un secret du passé.\",\n",
       "  'Realisateur': ['Asghar Farhadi'],\n",
       "  'duree_film': '2 h 10 min',\n",
       "  'sortie_film': '17 mai 2013',\n",
       "  'acteurs_principaux': ['Bérénice Bejo', ' Tahar Rahim', ' Ali Mosaffa'],\n",
       "  'charts_SENSCRITIQUE': {'note_moyenne': 6.8,\n",
       "   'nombre_critiques': 5552,\n",
       "   'repartition_note': [17, 43, 106, 228, 461, 1096, 1799, 1384, 350, 68]},\n",
       "  'charts_IMDB': ['7,8', '45 029'],\n",
       "  'charts_METACRITIC': '85',\n",
       "  'autres_details': {'budget': '$11,000,000',\n",
       "   'Cumulative_WW_Gross': '$12,673,462',\n",
       "   'location': 'France | Italy | Belgium | Iran'}})"
      ]
     },
     "execution_count": 9,
     "metadata": {},
     "output_type": "execute_result"
    }
   ],
   "source": [
    "#PROGRAMME DE TEST(Pour prouver que le scrapping marche) IMDB\n",
    "import copy\n",
    "film = lst_dico[r.randint(0,len(lst_dico)-1)]['nom_film']\n",
    "i = indice_nom_film(film, lst_dico)\n",
    "a = copy.deepcopy(lst_dico[i])\n",
    "scrapping_IMDB(film, lst_dico, 'dossier_test_images')\n",
    "a,lst_dico[i]"
   ]
  },
  {
   "cell_type": "markdown",
   "metadata": {},
   "source": [
    "# EXPORTATION DES DONNEES EN CSV"
   ]
  },
  {
   "cell_type": "markdown",
   "metadata": {},
   "source": [
    "Et enfin on exporte les données que nous avons récupérer dans un csv"
   ]
  },
  {
   "cell_type": "code",
   "execution_count": 133,
   "metadata": {},
   "outputs": [],
   "source": [
    "import pandas as pd\n",
    "df = pd.DataFrame(lst_dico)\n",
    "df.to_csv('data_FINAL.csv')"
   ]
  },
  {
   "cell_type": "code",
   "execution_count": null,
   "metadata": {},
   "outputs": [],
   "source": []
  }
 ],
 "metadata": {
  "kernelspec": {
   "display_name": "Python 3",
   "language": "python",
   "name": "python3"
  },
  "language_info": {
   "codemirror_mode": {
    "name": "ipython",
    "version": 3
   },
   "file_extension": ".py",
   "mimetype": "text/x-python",
   "name": "python",
   "nbconvert_exporter": "python",
   "pygments_lexer": "ipython3",
   "version": "3.8.3"
  }
 },
 "nbformat": 4,
 "nbformat_minor": 4
}

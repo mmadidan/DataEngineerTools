{
 "cells": [
  {
   "cell_type": "markdown",
   "metadata": {},
   "source": [
    "# Introduction"
   ]
  },
  {
   "cell_type": "markdown",
   "metadata": {},
   "source": [
    "Aujourd'hui la plupart des sites web utilisent du JavaScript pour rendre le site plus dynamique et agréable mais aussi pour afficher la données. \n",
    "\n",
    "Pour ces sites, la première méthode abordée n'est pas efficace, car de nombreuses requêtes sont utilisées pour se connecter, afficher la donnée, naviguer, il faudrait prendre en compte toutes ces requêtes et les assembler pour simuler le comportement du site. \n",
    "\n",
    "**C'est le comportement de votre navigateur**, il compile toutes les interactions, les requêtes et génère du HTML permettant d'afficher l'interface graphique d'un site web.\n",
    "\n",
    "Pour palier ce problème on peut laisser le navigateur faire son travail et contrôler sa surcouche logiciel. Pour cela on peut prendre le contrôle d'un navigateur comme Chrome, Edge, Firefox ou Safari depuis un script Python. \n",
    "\n",
    "Pour cela, nous allons utiliser un package Python `Selenium` https://selenium-python.readthedocs.io/ qui permet d'instancier un navigateur et de le contrôler. Sélénium est beaucoup utilisé pour générer des tests automatiques de sites web. \n",
    "\n",
    "On peut trouver les drivers des différents browser : \n",
    "- Chrome:\thttps://sites.google.com/a/chromium.org/chromedriver/downloads\n",
    "- Edge:\thttps://developer.microsoft.com/en-us/microsoft-edge/tools/webdriver/\n",
    "- Firefox:\thttps://github.com/mozilla/geckodriver/releases\n",
    "- Safari:\thttps://webkit.org/blog/6900/webdriver-support-in-safari-10/"
   ]
  },
  {
   "cell_type": "code",
   "execution_count": 1,
   "metadata": {},
   "outputs": [
    {
     "name": "stdout",
     "output_type": "stream",
     "text": [
      "Collecting selenium\n",
      "  Using cached selenium-3.141.0-py2.py3-none-any.whl (904 kB)\n",
      "Requirement already satisfied: urllib3 in /opt/anaconda3/lib/python3.8/site-packages (from selenium) (1.25.9)\n",
      "Installing collected packages: selenium\n",
      "Successfully installed selenium-3.141.0\n"
     ]
    }
   ],
   "source": [
    "!pip install selenium"
   ]
  },
  {
   "cell_type": "code",
   "execution_count": 2,
   "metadata": {},
   "outputs": [],
   "source": [
    "from selenium import webdriver"
   ]
  },
  {
   "cell_type": "code",
   "execution_count": 3,
   "metadata": {},
   "outputs": [],
   "source": [
    "IS_LINUX = False"
   ]
  },
  {
   "cell_type": "code",
   "execution_count": 110,
   "metadata": {},
   "outputs": [],
   "source": [
    "chrome = webdriver.Chrome(executable_path=\"./chromedriver\" if not IS_LINUX else \"./chromedriver_linux\")"
   ]
  },
  {
   "cell_type": "markdown",
   "metadata": {},
   "source": [
    "Vous devez voir apparaître une nouvelle instance de votre navigateur. Si vous voulez accéder à une page : "
   ]
  },
  {
   "cell_type": "code",
   "execution_count": 111,
   "metadata": {},
   "outputs": [],
   "source": [
    "chrome.get(\"https://www.amazon.fr\")"
   ]
  },
  {
   "cell_type": "markdown",
   "metadata": {},
   "source": [
    "Allez maintenant voir votre fenêtre. Vous êtes sur le site d'amazon. Vous pouvez maintenant vous déplacer dans la page. Pour cela il va falloir inspecter le code source de la page.\n",
    "\n",
    "Il existe de nombreuse méthode pour récupérer les éléments par exemple `find_element_by_link_text` qui permet de récupérer un élément grâce au text affiché. Ici, si on veut récupérer toutes les `Ventes Flash`"
   ]
  },
  {
   "cell_type": "code",
   "execution_count": 115,
   "metadata": {},
   "outputs": [
    {
     "data": {
      "text/plain": [
       "selenium.webdriver.remote.webelement.WebElement"
      ]
     },
     "execution_count": 115,
     "metadata": {},
     "output_type": "execute_result"
    }
   ],
   "source": [
    "link = chrome.find_element_by_link_text(\"Voir tout\")\n",
    "type(link)"
   ]
  },
  {
   "cell_type": "markdown",
   "metadata": {},
   "source": [
    "Si on veut entrer dans le lien, il suffit d'appeler la méthode `click`."
   ]
  },
  {
   "cell_type": "code",
   "execution_count": 116,
   "metadata": {},
   "outputs": [],
   "source": [
    "link.click()"
   ]
  },
  {
   "cell_type": "markdown",
   "metadata": {},
   "source": [
    "Vous êtes arrivé sur la page des ventes flash. Maintenant nous allons récupérer toutes les ventes actuelles. On remarque que les ventes sont stockés dans des widgets qui porte l'id `widgetContent`."
   ]
  },
  {
   "cell_type": "code",
   "execution_count": 192,
   "metadata": {},
   "outputs": [
    {
     "data": {
      "text/plain": [
       "(list, 4)"
      ]
     },
     "execution_count": 192,
     "metadata": {},
     "output_type": "execute_result"
    }
   ],
   "source": [
    "all_widgets = chrome.find_elements_by_id(\"widgetContent\")\n",
    "type(all_widgets), len(all_widgets)"
   ]
  },
  {
   "cell_type": "markdown",
   "metadata": {},
   "source": [
    "On obtient une liste d'éléments décrits par cet identifiant. Il y en a 5, un pour chaque ligne. Pour récupérer les différentes offres de la première ligne. on récupère les sections correspondantes: "
   ]
  },
  {
   "cell_type": "code",
   "execution_count": 193,
   "metadata": {},
   "outputs": [
    {
     "data": {
      "text/plain": [
       "80"
      ]
     },
     "execution_count": 193,
     "metadata": {},
     "output_type": "execute_result"
    }
   ],
   "source": [
    "first_line = all_widgets[0]\n",
    "all_first_line_elements = first_line.find_elements_by_class_name('a-section')\n",
    "len(all_first_line_elements)"
   ]
  },
  {
   "cell_type": "markdown",
   "metadata": {},
   "source": [
    "Pour récupérer le text maintenant : "
   ]
  },
  {
   "cell_type": "code",
   "execution_count": 119,
   "metadata": {},
   "outputs": [
    {
     "name": "stdout",
     "output_type": "stream",
     "text": [
      "6,09 € - 146,39 €\n",
      "Jusqu'à -20% de réduction sur nos marques, dont AmazonBasics\n",
      "9314\n",
      "Voir l'offre\n",
      "\n",
      "6,09 € - 146,39 €\n",
      "Jusqu'à -20% de réduction sur nos marques, dont AmazonBasics\n",
      "9314\n",
      "Voir l'offre\n",
      "\n",
      "\n",
      "\n",
      "6,09 € - 146,39 €\n",
      "Jusqu'à -20% de réduction sur nos marques, dont AmazonBasics\n",
      "9314\n",
      "Voir l'offre\n",
      "\n",
      "8,57 € - 103,03 €\n",
      "Vestes et manteaux: Jusqu'à -30% sur une sélection de produits\n",
      "416\n",
      "Voir l'offre\n",
      "\n",
      "8,57 € - 103,03 €\n",
      "Vestes et manteaux: Jusqu'à -30% sur une sélection de produits\n",
      "416\n",
      "Voir l'offre\n",
      "\n",
      "\n",
      "\n",
      "8,57 € - 103,03 €\n",
      "Vestes et manteaux: Jusqu'à -30% sur une sélection de produits\n",
      "416\n",
      "Voir l'offre\n",
      "\n",
      "5,38 € - 67,96 €\n",
      "Pantalons femme: Jusqu'à -30% sur une sélection de produits\n",
      "143\n",
      "Voir l'offre\n",
      "\n",
      "5,38 € - 67,96 €\n",
      "Pantalons femme: Jusqu'à -30% sur une sélection de produits\n",
      "143\n",
      "Voir l'offre\n",
      "\n",
      "\n",
      "\n",
      "5,38 € - 67,96 €\n",
      "Pantalons femme: Jusqu'à -30% sur une sélection de produits\n",
      "143\n",
      "Voir l'offre\n",
      "\n",
      "5,16 € - 38,28 €\n",
      "Pulls et cardigans femme: Jusqu'à -30% sur une sélection de produits\n",
      "8\n",
      "Voir l'offre\n",
      "\n",
      "5,16 € - 38,28 €\n",
      "Pulls et cardigans femme: Jusqu'à -30% sur une sélection de produits\n",
      "8\n",
      "Voir l'offre\n",
      "\n",
      "\n",
      "\n",
      "5,16 € - 38,28 €\n",
      "Pulls et cardigans femme: Jusqu'à -30% sur une sélection de produits\n",
      "8\n",
      "Voir l'offre\n",
      "\n",
      "2,99 € - 13,40 €\n",
      "Économisez 40% sur les produits de beauté des marques exclusives Amazon\n",
      "1163\n",
      "Voir l'offre\n",
      "\n",
      "2,99 € - 13,40 €\n",
      "Économisez 40% sur les produits de beauté des marques exclusives Amazon\n",
      "1163\n",
      "Voir l'offre\n",
      "\n",
      "\n",
      "\n",
      "2,99 € - 13,40 €\n",
      "Économisez 40% sur les produits de beauté des marques exclusives Amazon\n",
      "1163\n",
      "Voir l'offre\n",
      "\n"
     ]
    }
   ],
   "source": [
    "_ = [print(elt.text+ \"\\n\")  for elt in all_first_line_elements]"
   ]
  },
  {
   "cell_type": "markdown",
   "metadata": {},
   "source": [
    "Si vous êtes fan de JavaScript vous pouvez même injecter du code JS dans le navigateur depuis Python pour exécuter des opérations complexes. "
   ]
  },
  {
   "cell_type": "code",
   "execution_count": 36,
   "metadata": {},
   "outputs": [],
   "source": [
    "js_script = \"\"\"\n",
    "const class_name = 'DRIOC'\n",
    "console.log(`Hi from ${class_name}`)\n",
    "\"\"\""
   ]
  },
  {
   "cell_type": "code",
   "execution_count": 37,
   "metadata": {},
   "outputs": [],
   "source": [
    "chrome.execute_script(js_script)"
   ]
  },
  {
   "cell_type": "markdown",
   "metadata": {},
   "source": [
    "Vous pouvez aller vérifier dans la console Javascript du navigateur que le message apparait bien. "
   ]
  },
  {
   "cell_type": "markdown",
   "metadata": {},
   "source": [
    "# Exercice"
   ]
  },
  {
   "cell_type": "markdown",
   "metadata": {},
   "source": [
    "## Exercice 1"
   ]
  },
  {
   "cell_type": "markdown",
   "metadata": {},
   "source": [
    "Extraire le prix des offres :"
   ]
  },
  {
   "cell_type": "code",
   "execution_count": 209,
   "metadata": {},
   "outputs": [
    {
     "data": {
      "text/plain": [
       "'49,90 € - 189,90 €'"
      ]
     },
     "execution_count": 209,
     "metadata": {},
     "output_type": "execute_result"
    }
   ],
   "source": [
    "def extract_price(offer_web_element): \n",
    "    alli = offer_web_element.find_elements_by_class_name(\"dealPriceText\")\n",
    "    return alli[0].text\n",
    "#ou \n",
    "def extract_price2(offer_web_element):\n",
    "    lst_prix = []\n",
    "    l = offer_web_element.text\n",
    "    l = l.split(\"\\n\")\n",
    "    for elt in l:\n",
    "        for i in elt:\n",
    "            if i ==\"€\":\n",
    "                return elt\n",
    "    return None\n",
    "    #raise NotImplementedError('Need to be implemented')\n",
    "    #pass\n",
    "\n",
    "extract_price(all_first_line_elements[0])\n",
    "#print(all_first_line_elements[19].text)"
   ]
  },
  {
   "cell_type": "markdown",
   "metadata": {},
   "source": [
    "Extraire l'image de l'offre: "
   ]
  },
  {
   "cell_type": "code",
   "execution_count": 206,
   "metadata": {},
   "outputs": [
    {
     "data": {
      "text/plain": [
       "['https://m.media-amazon.com/images/G/08/_tools/1200_Brands_Generic/FR_DOTD._AA210_.png']"
      ]
     },
     "execution_count": 206,
     "metadata": {},
     "output_type": "execute_result"
    }
   ],
   "source": [
    "def extract_image(offer_web_element):\n",
    "    alli = [ image.get_attribute(\"src\") for image in offer_web_element.find_elements_by_tag_name(\"img\")]\n",
    "    return alli\n",
    "    \n",
    "extract_image(all_first_line_elements[0])"
   ]
  },
  {
   "cell_type": "markdown",
   "metadata": {},
   "source": [
    "Extraire le titre de l'offre: "
   ]
  },
  {
   "cell_type": "code",
   "execution_count": 203,
   "metadata": {},
   "outputs": [
    {
     "data": {
      "text/plain": [
       "\"tado°: jusqu'à -40% sur les thermostats et les têtes intellige...\""
      ]
     },
     "execution_count": 203,
     "metadata": {},
     "output_type": "execute_result"
    }
   ],
   "source": [
    "def extract_title(offer_web_element):\n",
    "    alli = offer_web_element.find_elements_by_id(\"dealTitle\")\n",
    "    return alli[0].text\n",
    "\n",
    "extract_title(all_first_line_elements[0])"
   ]
  },
  {
   "cell_type": "code",
   "execution_count": 80,
   "metadata": {},
   "outputs": [],
   "source": [
    "chrome.close()"
   ]
  }
 ],
 "metadata": {
  "kernelspec": {
   "display_name": "Python 3",
   "language": "python",
   "name": "python3"
  },
  "language_info": {
   "codemirror_mode": {
    "name": "ipython",
    "version": 3
   },
   "file_extension": ".py",
   "mimetype": "text/x-python",
   "name": "python",
   "nbconvert_exporter": "python",
   "pygments_lexer": "ipython3",
   "version": "3.8.3"
  }
 },
 "nbformat": 4,
 "nbformat_minor": 4
}

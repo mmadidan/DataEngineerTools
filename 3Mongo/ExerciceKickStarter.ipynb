{
 "cells": [
  {
   "cell_type": "markdown",
   "metadata": {},
   "source": [
    "#  Consignes\n",
    "\n",
    "## Description\n",
    "\n",
    "Ouvrir le fichier ks-projects-201801.csv, il recense environ 100 000 projets KickStarter. Intégrer les données directement avec L'API Python dans une base de données Mongo. \n",
    "\n",
    "Il conviendra de bien spécifier manuellement l'ID du document. Pensez aussi à bien formatter le type des données pour profiter des méthodes implémentées par Mongo. L'ensemble de données n'est pas forcément nécessaire, c'est à vous de créer votre modèle de données.\n",
    "\n",
    "## Questions\n",
    "\n",
    "- 1) Récupérer les 5 projets ayant reçu le plus de promesse de dons.\n",
    "- 2) Compter le nombre de projets ayant atteint leur but.\n",
    "- 3) Compter le nombre de projets pour chaque catégorie.\n",
    "- 4) Compter le nombre de projets français ayant été instanciés avant 2016.\n",
    "- 5) Récupérer les projets américains ayant demandé plus de 200 000 dollars.\n",
    "- 6) Compter le nombre de projet ayant \"Sport\" dans leur nom"
   ]
  },
  {
   "cell_type": "code",
   "execution_count": 1,
   "metadata": {},
   "outputs": [],
   "source": [
    "import pandas as pd\n",
    "import pymongo"
   ]
  },
  {
   "cell_type": "code",
   "execution_count": 2,
   "metadata": {},
   "outputs": [
    {
     "name": "stdout",
     "output_type": "stream",
     "text": [
      "['admin', 'config', 'local']\n"
     ]
    },
    {
     "name": "stderr",
     "output_type": "stream",
     "text": [
      "<ipython-input-2-3f6095835d9e>:4: DeprecationWarning: database_names is deprecated. Use list_database_names instead.\n",
      "  print(client.database_names())\n"
     ]
    }
   ],
   "source": [
    "client = pymongo.MongoClient(\"mongo\")\n",
    "database = client['exercices']\n",
    "collection = database['kickstarter']\n",
    "print(client.database_names())"
   ]
  },
  {
   "cell_type": "code",
   "execution_count": 3,
   "metadata": {},
   "outputs": [
    {
     "name": "stderr",
     "output_type": "stream",
     "text": [
      "/root/.local/share/virtualenvs/code-AFz48Hjb/lib/python3.8/site-packages/IPython/core/interactiveshell.py:3146: DtypeWarning: Columns (6,8,10,12) have mixed types.Specify dtype option on import or set low_memory=False.\n",
      "  has_raised = await self.run_ast_nodes(code_ast.body, cell_name,\n"
     ]
    },
    {
     "data": {
      "text/html": [
       "<div>\n",
       "<style scoped>\n",
       "    .dataframe tbody tr th:only-of-type {\n",
       "        vertical-align: middle;\n",
       "    }\n",
       "\n",
       "    .dataframe tbody tr th {\n",
       "        vertical-align: top;\n",
       "    }\n",
       "\n",
       "    .dataframe thead th {\n",
       "        text-align: right;\n",
       "    }\n",
       "</style>\n",
       "<table border=\"1\" class=\"dataframe\">\n",
       "  <thead>\n",
       "    <tr style=\"text-align: right;\">\n",
       "      <th></th>\n",
       "      <th>ID</th>\n",
       "      <th>name</th>\n",
       "      <th>category</th>\n",
       "      <th>main_category</th>\n",
       "      <th>currency</th>\n",
       "      <th>deadline</th>\n",
       "      <th>goal</th>\n",
       "      <th>launched</th>\n",
       "      <th>pledged</th>\n",
       "      <th>state</th>\n",
       "      <th>backers</th>\n",
       "      <th>country</th>\n",
       "      <th>usd pledged</th>\n",
       "      <th>usd_pledged_real</th>\n",
       "    </tr>\n",
       "  </thead>\n",
       "  <tbody>\n",
       "    <tr>\n",
       "      <th>0</th>\n",
       "      <td>872782264</td>\n",
       "      <td>Scott Cooper's Solo CD \"A Leg Trick\" (Canceled)</td>\n",
       "      <td>Rock</td>\n",
       "      <td>Music</td>\n",
       "      <td>USD</td>\n",
       "      <td>2011-09-16</td>\n",
       "      <td>2000</td>\n",
       "      <td>2011-08-17 06:31:31</td>\n",
       "      <td>1145</td>\n",
       "      <td>canceled</td>\n",
       "      <td>24</td>\n",
       "      <td>US</td>\n",
       "      <td>1145</td>\n",
       "      <td>1145.000000</td>\n",
       "    </tr>\n",
       "    <tr>\n",
       "      <th>1</th>\n",
       "      <td>1326492673</td>\n",
       "      <td>Ohceola jewelry</td>\n",
       "      <td>Fashion</td>\n",
       "      <td>Fashion</td>\n",
       "      <td>USD</td>\n",
       "      <td>2012-08-22</td>\n",
       "      <td>18000</td>\n",
       "      <td>2012-07-23 20:46:48</td>\n",
       "      <td>1851</td>\n",
       "      <td>failed</td>\n",
       "      <td>28</td>\n",
       "      <td>US</td>\n",
       "      <td>1851</td>\n",
       "      <td>1851.000000</td>\n",
       "    </tr>\n",
       "    <tr>\n",
       "      <th>2</th>\n",
       "      <td>1688410639</td>\n",
       "      <td>Sluff Off &amp; Harald: Two latest EGGs are Classi...</td>\n",
       "      <td>Tabletop Games</td>\n",
       "      <td>Games</td>\n",
       "      <td>USD</td>\n",
       "      <td>2016-07-19</td>\n",
       "      <td>2000</td>\n",
       "      <td>2016-07-01 21:55:54</td>\n",
       "      <td>7534</td>\n",
       "      <td>successful</td>\n",
       "      <td>254</td>\n",
       "      <td>US</td>\n",
       "      <td>3796</td>\n",
       "      <td>7534.000000</td>\n",
       "    </tr>\n",
       "    <tr>\n",
       "      <th>3</th>\n",
       "      <td>156812982</td>\n",
       "      <td>SketchPlanner: Create and Plan- all in one bea...</td>\n",
       "      <td>Art Books</td>\n",
       "      <td>Publishing</td>\n",
       "      <td>USD</td>\n",
       "      <td>2017-09-27</td>\n",
       "      <td>13000</td>\n",
       "      <td>2017-08-28 15:47:02</td>\n",
       "      <td>16298</td>\n",
       "      <td>successful</td>\n",
       "      <td>367</td>\n",
       "      <td>US</td>\n",
       "      <td>2670</td>\n",
       "      <td>16298.000000</td>\n",
       "    </tr>\n",
       "    <tr>\n",
       "      <th>4</th>\n",
       "      <td>1835968190</td>\n",
       "      <td>Proven sales with custom motorcycle accessories</td>\n",
       "      <td>Sculpture</td>\n",
       "      <td>Art</td>\n",
       "      <td>CAD</td>\n",
       "      <td>2016-02-24</td>\n",
       "      <td>5000</td>\n",
       "      <td>2016-01-25 17:37:10</td>\n",
       "      <td>1</td>\n",
       "      <td>failed</td>\n",
       "      <td>1</td>\n",
       "      <td>CA</td>\n",
       "      <td>0.708148</td>\n",
       "      <td>0.738225</td>\n",
       "    </tr>\n",
       "  </tbody>\n",
       "</table>\n",
       "</div>"
      ],
      "text/plain": [
       "           ID                                               name  \\\n",
       "0   872782264    Scott Cooper's Solo CD \"A Leg Trick\" (Canceled)   \n",
       "1  1326492673                                    Ohceola jewelry   \n",
       "2  1688410639  Sluff Off & Harald: Two latest EGGs are Classi...   \n",
       "3   156812982  SketchPlanner: Create and Plan- all in one bea...   \n",
       "4  1835968190    Proven sales with custom motorcycle accessories   \n",
       "\n",
       "         category main_category currency    deadline   goal  \\\n",
       "0            Rock         Music      USD  2011-09-16   2000   \n",
       "1         Fashion       Fashion      USD  2012-08-22  18000   \n",
       "2  Tabletop Games         Games      USD  2016-07-19   2000   \n",
       "3       Art Books    Publishing      USD  2017-09-27  13000   \n",
       "4       Sculpture           Art      CAD  2016-02-24   5000   \n",
       "\n",
       "              launched pledged       state backers country usd pledged  \\\n",
       "0  2011-08-17 06:31:31    1145    canceled      24      US        1145   \n",
       "1  2012-07-23 20:46:48    1851      failed      28      US        1851   \n",
       "2  2016-07-01 21:55:54    7534  successful     254      US        3796   \n",
       "3  2017-08-28 15:47:02   16298  successful     367      US        2670   \n",
       "4  2016-01-25 17:37:10       1      failed       1      CA    0.708148   \n",
       "\n",
       "   usd_pledged_real  \n",
       "0       1145.000000  \n",
       "1       1851.000000  \n",
       "2       7534.000000  \n",
       "3      16298.000000  \n",
       "4          0.738225  "
      ]
     },
     "execution_count": 3,
     "metadata": {},
     "output_type": "execute_result"
    }
   ],
   "source": [
    "df_ks = pd.read_csv(\"./data/ks-projects-201801-sample.csv\")\n",
    "df_ks.head()"
   ]
  },
  {
   "cell_type": "markdown",
   "metadata": {},
   "source": [
    "Ce warning intervient lorsque pandas n'arrive pas à inférer le type de données. Il est sympa il précise les colones 6,8,10,12. "
   ]
  },
  {
   "cell_type": "code",
   "execution_count": 4,
   "metadata": {},
   "outputs": [],
   "source": [
    "df_ks.columns[[6,8,10,12]]\n",
    "df_ks[\"launched\"] = pd.to_datetime(df_ks[\"launched\"], errors='coerce')\n",
    "df_ks = df_ks.dropna(subset = [\"launched\"])"
   ]
  },
  {
   "cell_type": "markdown",
   "metadata": {},
   "source": [
    "## Question 0"
   ]
  },
  {
   "cell_type": "code",
   "execution_count": 5,
   "metadata": {},
   "outputs": [
    {
     "data": {
      "text/plain": [
       "<pymongo.results.InsertManyResult at 0x7f10f2c53100>"
      ]
     },
     "execution_count": 5,
     "metadata": {},
     "output_type": "execute_result"
    }
   ],
   "source": [
    "DOCUMENTS = df_ks.to_dict('records')\n",
    "collection.insert_many(DOCUMENTS)"
   ]
  },
  {
   "cell_type": "code",
   "execution_count": 6,
   "metadata": {},
   "outputs": [
    {
     "data": {
      "text/plain": [
       "[{'_id': ObjectId('5fc5170b6e4a5e4c2603e8da'),\n",
       "  'ID': 217543389,\n",
       "  'name': 'The uKeg Pressurized Growler for Fresh Beer',\n",
       "  'category': 'Drinks',\n",
       "  'main_category': 'Food',\n",
       "  'currency': 'USD',\n",
       "  'deadline': '2014-12-08',\n",
       "  'goal': 75000.0,\n",
       "  'launched': datetime.datetime(2014, 10, 15, 6, 34, 48),\n",
       "  'pledged': 1559525.68,\n",
       "  'state': 'successful',\n",
       "  'backers': 10293,\n",
       "  'country': 'US',\n",
       "  'usd pledged': 1559525.68,\n",
       "  'usd_pledged_real': 1559525.68},\n",
       " {'_id': ObjectId('5fc5170b6e4a5e4c2603e96a'),\n",
       "  'ID': 909248984,\n",
       "  'name': 'Redux COURG - Hybrid Watches with Missions to Tackle',\n",
       "  'category': 'Product Design',\n",
       "  'main_category': 'Design',\n",
       "  'currency': 'USD',\n",
       "  'deadline': '2015-08-20',\n",
       "  'goal': 30000.0,\n",
       "  'launched': datetime.datetime(2015, 7, 21, 19, 1, 41),\n",
       "  'pledged': 692912.0,\n",
       "  'state': 'successful',\n",
       "  'backers': 2200,\n",
       "  'country': 'US',\n",
       "  'usd pledged': 692912.0,\n",
       "  'usd_pledged_real': 692912.0},\n",
       " {'_id': ObjectId('5fc5170b6e4a5e4c2603e9c5'),\n",
       "  'ID': 2077379837,\n",
       "  'name': 'Battle Systemsï¿½ Sci-fi II Terrain',\n",
       "  'category': 'Tabletop Games',\n",
       "  'main_category': 'Games',\n",
       "  'currency': 'GBP',\n",
       "  'deadline': '2016-11-20',\n",
       "  'goal': 21000.0,\n",
       "  'launched': datetime.datetime(2016, 10, 21, 21, 0, 24),\n",
       "  'pledged': 241517.0,\n",
       "  'state': 'successful',\n",
       "  'backers': 1513,\n",
       "  'country': 'GB',\n",
       "  'usd pledged': 24261.91200558,\n",
       "  'usd_pledged_real': 300315.83790303534},\n",
       " {'_id': ObjectId('5fc5170b6e4a5e4c2603ea18'),\n",
       "  'ID': 1688905333,\n",
       "  'name': 'Legion Solar - A Better Way to Energy Independence',\n",
       "  'category': 'Technology',\n",
       "  'main_category': 'Technology',\n",
       "  'currency': 'USD',\n",
       "  'deadline': '2016-06-18',\n",
       "  'goal': 50000.0,\n",
       "  'launched': datetime.datetime(2016, 5, 3, 16, 0, 22),\n",
       "  'pledged': 277524.0,\n",
       "  'state': 'successful',\n",
       "  'backers': 399,\n",
       "  'country': 'US',\n",
       "  'usd pledged': 277524.0,\n",
       "  'usd_pledged_real': 277524.0},\n",
       " {'_id': ObjectId('5fc5170b6e4a5e4c2603eb0d'),\n",
       "  'ID': 1426744634,\n",
       "  'name': 'Earin - The Worlds Smallest Wireless Earbuds',\n",
       "  'category': 'Hardware',\n",
       "  'main_category': 'Technology',\n",
       "  'currency': 'GBP',\n",
       "  'deadline': '2014-07-23',\n",
       "  'goal': 179000.0,\n",
       "  'launched': datetime.datetime(2014, 6, 13, 23, 8, 9),\n",
       "  'pledged': 972594.99,\n",
       "  'state': 'successful',\n",
       "  'backers': 8359,\n",
       "  'country': 'GB',\n",
       "  'usd pledged': 1633748.50090932,\n",
       "  'usd_pledged_real': 1652246.6491123757}]"
      ]
     },
     "execution_count": 6,
     "metadata": {},
     "output_type": "execute_result"
    }
   ],
   "source": [
    "cur = collection.find({\"usd_pledged_real\": {\"$gte\": 200000}}).limit(5)\n",
    "list(cur)"
   ]
  },
  {
   "cell_type": "markdown",
   "metadata": {},
   "source": [
    "### Netoyer les données"
   ]
  },
  {
   "cell_type": "markdown",
   "metadata": {
    "slideshow": {
     "slide_type": "slide"
    }
   },
   "source": [
    "### Importer les données"
   ]
  },
  {
   "cell_type": "markdown",
   "metadata": {},
   "source": [
    "## Question 1  "
   ]
  },
  {
   "cell_type": "code",
   "execution_count": 7,
   "metadata": {},
   "outputs": [
    {
     "data": {
      "text/plain": [
       "[{'_id': ObjectId('5fc5170d6e4a5e4c2605bf00'),\n",
       "  'ID': 1701277493,\n",
       "  'name': 'THE SHELLS ï¿½ AUSFLUG NACH NEU-FRIEDENWALD',\n",
       "  'category': 'Immersive',\n",
       "  'main_category': 'Theater',\n",
       "  'currency': 'GBP',\n",
       "  'deadline': '2015-04-19',\n",
       "  'goal': '6500.0',\n",
       "  'launched': datetime.datetime(2015, 3, 20, 19, 25, 56),\n",
       "  'pledged': '6700.0',\n",
       "  'state': 'successful',\n",
       "  'backers': '89',\n",
       "  'country': 'GB',\n",
       "  'usd pledged': '9999.268739',\n",
       "  'usd_pledged_real': 10130.027214998487},\n",
       " {'_id': ObjectId('5fc5170d6e4a5e4c2605bdfe'),\n",
       "  'ID': 218218259,\n",
       "  'name': 'True North ï¿½ Repurposed Sailcloth Products',\n",
       "  'category': 'Product Design',\n",
       "  'main_category': 'Design',\n",
       "  'currency': 'USD',\n",
       "  'deadline': '2016-06-14',\n",
       "  'goal': '7500.0',\n",
       "  'launched': datetime.datetime(2016, 5, 10, 15, 53, 56),\n",
       "  'pledged': '9996.0',\n",
       "  'state': 'successful',\n",
       "  'backers': '50',\n",
       "  'country': 'US',\n",
       "  'usd pledged': '9996.0',\n",
       "  'usd_pledged_real': 9996.0},\n",
       " {'_id': ObjectId('5fc5170d6e4a5e4c2605b980'),\n",
       "  'ID': 1538904209,\n",
       "  'name': 'Holo ï¿½ Smartphone & Tablet Hologram',\n",
       "  'category': 'Gadgets',\n",
       "  'main_category': 'Technology',\n",
       "  'currency': 'AUD',\n",
       "  'deadline': '2016-03-05',\n",
       "  'goal': '2000.0',\n",
       "  'launched': datetime.datetime(2016, 2, 4, 0, 4, 6),\n",
       "  'pledged': '14076.0',\n",
       "  'state': 'successful',\n",
       "  'backers': '321',\n",
       "  'country': 'AU',\n",
       "  'usd pledged': '9994.32696132',\n",
       "  'usd_pledged_real': 10571.535861809987},\n",
       " {'_id': ObjectId('5fc5170c6e4a5e4c26052a61'),\n",
       "  'ID': 1247285954,\n",
       "  'name': '2016 Gaming Calendar',\n",
       "  'category': 'Tabletop Games',\n",
       "  'main_category': 'Games',\n",
       "  'currency': 'USD',\n",
       "  'deadline': '2015-07-25',\n",
       "  'goal': '3000.0',\n",
       "  'launched': datetime.datetime(2015, 6, 26, 14, 57, 14),\n",
       "  'pledged': '9994.0',\n",
       "  'state': 'successful',\n",
       "  'backers': '258',\n",
       "  'country': 'US',\n",
       "  'usd pledged': '9994.0',\n",
       "  'usd_pledged_real': 9994.0},\n",
       " {'_id': ObjectId('5fc5170c6e4a5e4c2604ec3e'),\n",
       "  'ID': 1109633804,\n",
       "  'name': 'Dawn of The Guardian: A Fantasy-Fiction Novel',\n",
       "  'category': \"Children's Books\",\n",
       "  'main_category': 'Publishing',\n",
       "  'currency': 'AUD',\n",
       "  'deadline': '2016-04-01',\n",
       "  'goal': '14000.0',\n",
       "  'launched': datetime.datetime(2016, 3, 2, 13, 58, 30),\n",
       "  'pledged': '14024.0',\n",
       "  'state': 'successful',\n",
       "  'backers': '38',\n",
       "  'country': 'AU',\n",
       "  'usd pledged': '9990.28333104',\n",
       "  'usd_pledged_real': 10771.121351766513}]"
      ]
     },
     "execution_count": 7,
     "metadata": {},
     "output_type": "execute_result"
    }
   ],
   "source": [
    "cur = collection.find().sort([(\"usd pledged\", -1)]).limit(5)\n",
    "list(cur)"
   ]
  },
  {
   "cell_type": "markdown",
   "metadata": {},
   "source": [
    "## Question 2"
   ]
  },
  {
   "cell_type": "code",
   "execution_count": 8,
   "metadata": {},
   "outputs": [
    {
     "data": {
      "text/plain": [
       "[{'_id': 'successful', 'nb': 53040}]"
      ]
     },
     "execution_count": 8,
     "metadata": {},
     "output_type": "execute_result"
    }
   ],
   "source": [
    "cur = collection.aggregate([\n",
    "    {\"$match\":{\"state\":\"successful\"}},\n",
    "    {\"$group\" : {\"_id\": \"$state\", \"nb\" : {\"$sum\" : 1}}}\n",
    "    ])\n",
    "list(cur)"
   ]
  },
  {
   "cell_type": "markdown",
   "metadata": {},
   "source": [
    "## Question 3"
   ]
  },
  {
   "cell_type": "code",
   "execution_count": 9,
   "metadata": {},
   "outputs": [
    {
     "data": {
      "text/plain": [
       "[{'_id': 'Plays', 'nb': 539},\n",
       " {'_id': 'Sculpture', 'nb': 737},\n",
       " {'_id': 'Anthologies', 'nb': 300},\n",
       " {'_id': 'Music Videos', 'nb': 299},\n",
       " {'_id': 'Shorts', 'nb': 4857},\n",
       " {'_id': 'Playing Cards', 'nb': 963},\n",
       " {'_id': 'Video', 'nb': 147},\n",
       " {'_id': 'Small Batch', 'nb': 701},\n",
       " {'_id': 'Glass', 'nb': 51},\n",
       " {'_id': 'Childrenswear', 'nb': 192},\n",
       " {'_id': 'Taxidermy', 'nb': 7},\n",
       " {'_id': 'Software', 'nb': 1194},\n",
       " {'_id': 'Journalism', 'nb': 672},\n",
       " {'_id': 'Jazz', 'nb': 733},\n",
       " {'_id': 'Photo', 'nb': 58},\n",
       " {'_id': 'DIY', 'nb': 480},\n",
       " {'_id': 'Typography', 'nb': 44},\n",
       " {'_id': 'Spaces', 'nb': 331},\n",
       " {'_id': 'Metal', 'nb': 274},\n",
       " {'_id': 'Webseries', 'nb': 2316},\n",
       " {'_id': 'Painting', 'nb': 1288},\n",
       " {'_id': 'Architecture', 'nb': 300},\n",
       " {'_id': 'Camera Equipment', 'nb': 165},\n",
       " {'_id': 'Electronic Music', 'nb': 858},\n",
       " {'_id': 'Latin', 'nb': 63},\n",
       " {'_id': 'Mixed Media', 'nb': 1118},\n",
       " {'_id': 'Film & Video', 'nb': 4003},\n",
       " {'_id': 'Science Fiction', 'nb': 274},\n",
       " {'_id': 'DIY Electronics', 'nb': 358},\n",
       " {'_id': 'Stationery', 'nb': 90},\n",
       " {'_id': 'Fine Art', 'nb': 291},\n",
       " {'_id': 'Candles', 'nb': 168},\n",
       " {'_id': 'Web', 'nb': 2017},\n",
       " {'_id': 'Gadgets', 'nb': 1210},\n",
       " {'_id': 'Blues', 'nb': 113},\n",
       " {'_id': 'Digital Art', 'nb': 524},\n",
       " {'_id': 'Knitting', 'nb': 78},\n",
       " {'_id': 'Workshops', 'nb': 59},\n",
       " {'_id': 'Photography', 'nb': 2239},\n",
       " {'_id': 'Literary Spaces', 'nb': 10},\n",
       " {'_id': 'Hip-Hop', 'nb': 1555},\n",
       " {'_id': 'Cookbooks', 'nb': 217},\n",
       " {'_id': 'Crafts', 'nb': 1834},\n",
       " {'_id': 'Restaurants', 'nb': 1089},\n",
       " {'_id': 'Printing', 'nb': 83},\n",
       " {'_id': 'Design', 'nb': 1641},\n",
       " {'_id': 'Pottery', 'nb': 40},\n",
       " {'_id': 'Bacon', 'nb': 78},\n",
       " {'_id': 'Residencies', 'nb': 32},\n",
       " {'_id': 'Horror', 'nb': 525},\n",
       " {'_id': 'Product Design', 'nb': 8886},\n",
       " {'_id': 'Pop', 'nb': 1302},\n",
       " {'_id': 'Art', 'nb': 3358},\n",
       " {'_id': 'Mobile Games', 'nb': 650},\n",
       " {'_id': 'Installations', 'nb': 178},\n",
       " {'_id': 'Family', 'nb': 130},\n",
       " {'_id': 'Accessories', 'nb': 1204},\n",
       " {'_id': 'Flight', 'nb': 158},\n",
       " {'_id': 'Faith', 'nb': 439},\n",
       " {'_id': 'Classical Music', 'nb': 1064},\n",
       " {'_id': 'Fantasy', 'nb': 132},\n",
       " {'_id': 'Theater', 'nb': 2786},\n",
       " {'_id': 'Graphic Novels', 'nb': 702},\n",
       " {'_id': 'Nature', 'nb': 219},\n",
       " {'_id': 'Drinks', 'nb': 995},\n",
       " {'_id': 'Musical', 'nb': 367},\n",
       " {'_id': 'Apps', 'nb': 2535},\n",
       " {'_id': 'Video Art', 'nb': 65},\n",
       " {'_id': 'Drama', 'nb': 871},\n",
       " {'_id': 'Performance Art', 'nb': 855},\n",
       " {'_id': 'Video Games', 'nb': 4799},\n",
       " {'_id': 'Places', 'nb': 283},\n",
       " {'_id': 'Wearables', 'nb': 508},\n",
       " {'_id': 'Technology', 'nb': 2690},\n",
       " {'_id': 'Illustration', 'nb': 1263},\n",
       " {'_id': 'Live Games', 'nb': 394},\n",
       " {'_id': 'Action', 'nb': 282},\n",
       " {'_id': 'Letterpress', 'nb': 24},\n",
       " {'_id': 'Interactive Design', 'nb': 146},\n",
       " {'_id': 'Space Exploration', 'nb': 137},\n",
       " {'_id': 'Robots', 'nb': 237},\n",
       " {'_id': 'Chiptune', 'nb': 10},\n",
       " {'_id': 'Calendars', 'nb': 112},\n",
       " {'_id': \"Children's Books\", 'nb': 2686},\n",
       " {'_id': 'Photobooks', 'nb': 608},\n",
       " {'_id': 'Graphic Design', 'nb': 765},\n",
       " {'_id': 'Games', 'nb': 1331},\n",
       " {'_id': 'Publishing', 'nb': 2332},\n",
       " {'_id': 'Makerspaces', 'nb': 91},\n",
       " {'_id': 'Punk', 'nb': 127},\n",
       " {'_id': 'Comic Books', 'nb': 1032},\n",
       " {'_id': 'Zines', 'nb': 144},\n",
       " {'_id': 'Television', 'nb': 401},\n",
       " {'_id': 'Movie Theaters', 'nb': 90},\n",
       " {'_id': 'Documentary', 'nb': 6498},\n",
       " {'_id': 'Public Art', 'nb': 1248},\n",
       " {'_id': 'Gaming Hardware', 'nb': 178},\n",
       " {'_id': 'Print', 'nb': 288},\n",
       " {'_id': 'Ceramics', 'nb': 128},\n",
       " {'_id': 'Puzzles', 'nb': 95},\n",
       " {'_id': 'Animation', 'nb': 1017},\n",
       " {'_id': 'Quilts', 'nb': 32},\n",
       " {'_id': 'Rock', 'nb': 2707},\n",
       " {'_id': 'Fiction', 'nb': 3703},\n",
       " {'_id': 'Dance', 'nb': 901},\n",
       " {'_id': 'Comedy', 'nb': 923},\n",
       " {'_id': 'Community Gardens', 'nb': 115},\n",
       " {'_id': 'Vegan', 'nb': 229},\n",
       " {'_id': 'Food', 'nb': 4612},\n",
       " {'_id': 'Immersive', 'nb': 131},\n",
       " {'_id': 'Romance', 'nb': 74},\n",
       " {'_id': 'Thrillers', 'nb': 302},\n",
       " {'_id': 'Academic', 'nb': 367},\n",
       " {'_id': 'R&B', 'nb': 172},\n",
       " {'_id': 'Translations', 'nb': 76},\n",
       " {'_id': 'Young Adult', 'nb': 328},\n",
       " {'_id': 'Nonfiction', 'nb': 3390},\n",
       " {'_id': 'Jewelry', 'nb': 472},\n",
       " {'_id': 'Sound', 'nb': 255},\n",
       " {'_id': 'Fabrication Tools', 'nb': 96},\n",
       " {'_id': '3D Printing', 'nb': 271},\n",
       " {'_id': 'Food Trucks', 'nb': 687},\n",
       " {'_id': 'Hardware', 'nb': 1431},\n",
       " {'_id': 'Country & Folk', 'nb': 1790},\n",
       " {'_id': 'Fashion', 'nb': 3379},\n",
       " {'_id': 'Narrative Film', 'nb': 2099},\n",
       " {'_id': 'Literary Journals', 'nb': 118},\n",
       " {'_id': 'Events', 'nb': 322},\n",
       " {'_id': 'Experimental', 'nb': 357},\n",
       " {'_id': 'Indie Rock', 'nb': 2192},\n",
       " {'_id': 'Woodworking', 'nb': 433},\n",
       " {'_id': 'Civic Design', 'nb': 130},\n",
       " {'_id': 'Art Books', 'nb': 1065},\n",
       " {'_id': 'Poetry', 'nb': 532},\n",
       " {'_id': 'Music', 'nb': 6229},\n",
       " {'_id': 'Audio', 'nb': 164},\n",
       " {'_id': 'Performances', 'nb': 414},\n",
       " {'_id': 'Apparel', 'nb': 2827},\n",
       " {'_id': 'Ready-to-wear', 'nb': 332},\n",
       " {'_id': 'People', 'nb': 440},\n",
       " {'_id': 'Weaving', 'nb': 38},\n",
       " {'_id': 'Comics', 'nb': 1931},\n",
       " {'_id': 'Farms', 'nb': 482},\n",
       " {'_id': 'Animals', 'nb': 97},\n",
       " {'_id': \"Farmer's Markets\", 'nb': 175},\n",
       " {'_id': 'Footwear', 'nb': 379},\n",
       " {'_id': 'Crochet', 'nb': 61},\n",
       " {'_id': 'Couture', 'nb': 108},\n",
       " {'_id': 'Periodicals', 'nb': 517},\n",
       " {'_id': 'Pet Fashion', 'nb': 51},\n",
       " {'_id': 'Embroidery', 'nb': 49},\n",
       " {'_id': 'World Music', 'nb': 850},\n",
       " {'_id': 'Tabletop Games', 'nb': 5581},\n",
       " {'_id': 'Festivals', 'nb': 313},\n",
       " {'_id': 'Kids', 'nb': 109},\n",
       " {'_id': 'Webcomics', 'nb': 259},\n",
       " {'_id': 'Radio & Podcasts', 'nb': 349},\n",
       " {'_id': 'Textiles', 'nb': 105},\n",
       " {'_id': 'Conceptual Art', 'nb': 393}]"
      ]
     },
     "execution_count": 9,
     "metadata": {},
     "output_type": "execute_result"
    }
   ],
   "source": [
    "cur = collection.aggregate([\n",
    "    {\"$group\" : {\"_id\": \"$category\", \"nb\" : {\"$sum\" : 1}}}\n",
    "    ])\n",
    "list(cur)"
   ]
  },
  {
   "cell_type": "markdown",
   "metadata": {},
   "source": [
    "## Question 4"
   ]
  },
  {
   "cell_type": "code",
   "execution_count": 10,
   "metadata": {},
   "outputs": [
    {
     "data": {
      "text/plain": [
       "[]"
      ]
     },
     "execution_count": 10,
     "metadata": {},
     "output_type": "execute_result"
    }
   ],
   "source": [
    "cur = collection.aggregate([\n",
    "    {\"$match\": {\"$and\":[{\"launched\": {\"$lt\": '2016-01-01'}},{\"country\":\"FR\"}]}},\n",
    "    {\"$group\": {\"_id\": \"$country\", \"nb\": {\"$sum\" : 1}}}\n",
    "    ])\n",
    "list(cur)"
   ]
  },
  {
   "cell_type": "markdown",
   "metadata": {},
   "source": [
    "## Question 5"
   ]
  },
  {
   "cell_type": "code",
   "execution_count": 11,
   "metadata": {},
   "outputs": [
    {
     "data": {
      "text/plain": [
       "[{'_id': 'US', 'nb': 658}]"
      ]
     },
     "execution_count": 11,
     "metadata": {},
     "output_type": "execute_result"
    }
   ],
   "source": [
    "cur = collection.find(\n",
    "    {\"$and\":[{\"usd_pledged_real\": {\"$gt\": 200000}},{\"country\":\"US\"}]}\n",
    "    )\n",
    "list(cur)"
   ]
  },
  {
   "cell_type": "markdown",
   "metadata": {},
   "source": [
    "## Question 6 "
   ]
  },
  {
   "cell_type": "code",
   "execution_count": 113,
   "metadata": {},
   "outputs": [
    {
     "ename": "AutoReconnect",
     "evalue": "connection closed",
     "output_type": "error",
     "traceback": [
      "\u001b[0;31m---------------------------------------------------------------------------\u001b[0m",
      "\u001b[0;31mAutoReconnect\u001b[0m                             Traceback (most recent call last)",
      "\u001b[0;32m<ipython-input-113-250556b71d8d>\u001b[0m in \u001b[0;36m<module>\u001b[0;34m\u001b[0m\n\u001b[0;32m----> 1\u001b[0;31m \u001b[0mcollection\u001b[0m\u001b[0;34m.\u001b[0m\u001b[0mcreate_index\u001b[0m\u001b[0;34m(\u001b[0m\u001b[0;34m[\u001b[0m\u001b[0;34m(\u001b[0m\u001b[0;34m\"name\"\u001b[0m\u001b[0;34m,\u001b[0m  \u001b[0;34m\"text\"\u001b[0m\u001b[0;34m)\u001b[0m\u001b[0;34m]\u001b[0m\u001b[0;34m)\u001b[0m\u001b[0;34m\u001b[0m\u001b[0;34m\u001b[0m\u001b[0m\n\u001b[0m",
      "\u001b[0;32m~/.local/share/virtualenvs/code-AFz48Hjb/lib/python3.8/site-packages/pymongo/collection.py\u001b[0m in \u001b[0;36mcreate_index\u001b[0;34m(self, keys, session, **kwargs)\u001b[0m\n\u001b[1;32m   2057\u001b[0m             \u001b[0mcmd_options\u001b[0m\u001b[0;34m[\u001b[0m\u001b[0;34m\"maxTimeMS\"\u001b[0m\u001b[0;34m]\u001b[0m \u001b[0;34m=\u001b[0m \u001b[0mkwargs\u001b[0m\u001b[0;34m.\u001b[0m\u001b[0mpop\u001b[0m\u001b[0;34m(\u001b[0m\u001b[0;34m\"maxTimeMS\"\u001b[0m\u001b[0;34m)\u001b[0m\u001b[0;34m\u001b[0m\u001b[0;34m\u001b[0m\u001b[0m\n\u001b[1;32m   2058\u001b[0m         \u001b[0mindex\u001b[0m \u001b[0;34m=\u001b[0m \u001b[0mIndexModel\u001b[0m\u001b[0;34m(\u001b[0m\u001b[0mkeys\u001b[0m\u001b[0;34m,\u001b[0m \u001b[0;34m**\u001b[0m\u001b[0mkwargs\u001b[0m\u001b[0;34m)\u001b[0m\u001b[0;34m\u001b[0m\u001b[0;34m\u001b[0m\u001b[0m\n\u001b[0;32m-> 2059\u001b[0;31m         \u001b[0;32mreturn\u001b[0m \u001b[0mself\u001b[0m\u001b[0;34m.\u001b[0m\u001b[0m__create_indexes\u001b[0m\u001b[0;34m(\u001b[0m\u001b[0;34m[\u001b[0m\u001b[0mindex\u001b[0m\u001b[0;34m]\u001b[0m\u001b[0;34m,\u001b[0m \u001b[0msession\u001b[0m\u001b[0;34m,\u001b[0m \u001b[0;34m**\u001b[0m\u001b[0mcmd_options\u001b[0m\u001b[0;34m)\u001b[0m\u001b[0;34m[\u001b[0m\u001b[0;36m0\u001b[0m\u001b[0;34m]\u001b[0m\u001b[0;34m\u001b[0m\u001b[0;34m\u001b[0m\u001b[0m\n\u001b[0m\u001b[1;32m   2060\u001b[0m \u001b[0;34m\u001b[0m\u001b[0m\n\u001b[1;32m   2061\u001b[0m     \u001b[0;32mdef\u001b[0m \u001b[0mensure_index\u001b[0m\u001b[0;34m(\u001b[0m\u001b[0mself\u001b[0m\u001b[0;34m,\u001b[0m \u001b[0mkey_or_list\u001b[0m\u001b[0;34m,\u001b[0m \u001b[0mcache_for\u001b[0m\u001b[0;34m=\u001b[0m\u001b[0;36m300\u001b[0m\u001b[0;34m,\u001b[0m \u001b[0;34m**\u001b[0m\u001b[0mkwargs\u001b[0m\u001b[0;34m)\u001b[0m\u001b[0;34m:\u001b[0m\u001b[0;34m\u001b[0m\u001b[0;34m\u001b[0m\u001b[0m\n",
      "\u001b[0;32m~/.local/share/virtualenvs/code-AFz48Hjb/lib/python3.8/site-packages/pymongo/collection.py\u001b[0m in \u001b[0;36m__create_indexes\u001b[0;34m(self, indexes, session, **kwargs)\u001b[0m\n\u001b[1;32m   1947\u001b[0m                     \"commitQuorum option for createIndexes\")\n\u001b[1;32m   1948\u001b[0m \u001b[0;34m\u001b[0m\u001b[0m\n\u001b[0;32m-> 1949\u001b[0;31m             self._command(\n\u001b[0m\u001b[1;32m   1950\u001b[0m                 \u001b[0msock_info\u001b[0m\u001b[0;34m,\u001b[0m \u001b[0mcmd\u001b[0m\u001b[0;34m,\u001b[0m \u001b[0mread_preference\u001b[0m\u001b[0;34m=\u001b[0m\u001b[0mReadPreference\u001b[0m\u001b[0;34m.\u001b[0m\u001b[0mPRIMARY\u001b[0m\u001b[0;34m,\u001b[0m\u001b[0;34m\u001b[0m\u001b[0;34m\u001b[0m\u001b[0m\n\u001b[1;32m   1951\u001b[0m                 \u001b[0mcodec_options\u001b[0m\u001b[0;34m=\u001b[0m\u001b[0m_UNICODE_REPLACE_CODEC_OPTIONS\u001b[0m\u001b[0;34m,\u001b[0m\u001b[0;34m\u001b[0m\u001b[0;34m\u001b[0m\u001b[0m\n",
      "\u001b[0;32m~/.local/share/virtualenvs/code-AFz48Hjb/lib/python3.8/site-packages/pymongo/collection.py\u001b[0m in \u001b[0;36m_command\u001b[0;34m(self, sock_info, command, slave_ok, read_preference, codec_options, check, allowable_errors, read_concern, write_concern, collation, session, retryable_write, user_fields)\u001b[0m\n\u001b[1;32m    236\u001b[0m         \"\"\"\n\u001b[1;32m    237\u001b[0m         \u001b[0;32mwith\u001b[0m \u001b[0mself\u001b[0m\u001b[0;34m.\u001b[0m\u001b[0m__database\u001b[0m\u001b[0;34m.\u001b[0m\u001b[0mclient\u001b[0m\u001b[0;34m.\u001b[0m\u001b[0m_tmp_session\u001b[0m\u001b[0;34m(\u001b[0m\u001b[0msession\u001b[0m\u001b[0;34m)\u001b[0m \u001b[0;32mas\u001b[0m \u001b[0ms\u001b[0m\u001b[0;34m:\u001b[0m\u001b[0;34m\u001b[0m\u001b[0;34m\u001b[0m\u001b[0m\n\u001b[0;32m--> 238\u001b[0;31m             return sock_info.command(\n\u001b[0m\u001b[1;32m    239\u001b[0m                 \u001b[0mself\u001b[0m\u001b[0;34m.\u001b[0m\u001b[0m__database\u001b[0m\u001b[0;34m.\u001b[0m\u001b[0mname\u001b[0m\u001b[0;34m,\u001b[0m\u001b[0;34m\u001b[0m\u001b[0;34m\u001b[0m\u001b[0m\n\u001b[1;32m    240\u001b[0m                 \u001b[0mcommand\u001b[0m\u001b[0;34m,\u001b[0m\u001b[0;34m\u001b[0m\u001b[0;34m\u001b[0m\u001b[0m\n",
      "\u001b[0;32m~/.local/share/virtualenvs/code-AFz48Hjb/lib/python3.8/site-packages/pymongo/pool.py\u001b[0m in \u001b[0;36mcommand\u001b[0;34m(self, dbname, spec, slave_ok, read_preference, codec_options, check, allowable_errors, check_keys, read_concern, write_concern, parse_write_concern_error, collation, session, client, retryable_write, publish_events, user_fields, exhaust_allowed)\u001b[0m\n\u001b[1;32m    697\u001b[0m         \u001b[0;31m# Catch socket.error, KeyboardInterrupt, etc. and close ourselves.\u001b[0m\u001b[0;34m\u001b[0m\u001b[0;34m\u001b[0m\u001b[0;34m\u001b[0m\u001b[0m\n\u001b[1;32m    698\u001b[0m         \u001b[0;32mexcept\u001b[0m \u001b[0mBaseException\u001b[0m \u001b[0;32mas\u001b[0m \u001b[0merror\u001b[0m\u001b[0;34m:\u001b[0m\u001b[0;34m\u001b[0m\u001b[0;34m\u001b[0m\u001b[0m\n\u001b[0;32m--> 699\u001b[0;31m             \u001b[0mself\u001b[0m\u001b[0;34m.\u001b[0m\u001b[0m_raise_connection_failure\u001b[0m\u001b[0;34m(\u001b[0m\u001b[0merror\u001b[0m\u001b[0;34m)\u001b[0m\u001b[0;34m\u001b[0m\u001b[0;34m\u001b[0m\u001b[0m\n\u001b[0m\u001b[1;32m    700\u001b[0m \u001b[0;34m\u001b[0m\u001b[0m\n\u001b[1;32m    701\u001b[0m     \u001b[0;32mdef\u001b[0m \u001b[0msend_message\u001b[0m\u001b[0;34m(\u001b[0m\u001b[0mself\u001b[0m\u001b[0;34m,\u001b[0m \u001b[0mmessage\u001b[0m\u001b[0;34m,\u001b[0m \u001b[0mmax_doc_size\u001b[0m\u001b[0;34m)\u001b[0m\u001b[0;34m:\u001b[0m\u001b[0;34m\u001b[0m\u001b[0;34m\u001b[0m\u001b[0m\n",
      "\u001b[0;32m~/.local/share/virtualenvs/code-AFz48Hjb/lib/python3.8/site-packages/pymongo/pool.py\u001b[0m in \u001b[0;36mcommand\u001b[0;34m(self, dbname, spec, slave_ok, read_preference, codec_options, check, allowable_errors, check_keys, read_concern, write_concern, parse_write_concern_error, collation, session, client, retryable_write, publish_events, user_fields, exhaust_allowed)\u001b[0m\n\u001b[1;32m    681\u001b[0m             \u001b[0mself\u001b[0m\u001b[0;34m.\u001b[0m\u001b[0m_raise_if_not_writable\u001b[0m\u001b[0;34m(\u001b[0m\u001b[0munacknowledged\u001b[0m\u001b[0;34m)\u001b[0m\u001b[0;34m\u001b[0m\u001b[0;34m\u001b[0m\u001b[0m\n\u001b[1;32m    682\u001b[0m         \u001b[0;32mtry\u001b[0m\u001b[0;34m:\u001b[0m\u001b[0;34m\u001b[0m\u001b[0;34m\u001b[0m\u001b[0m\n\u001b[0;32m--> 683\u001b[0;31m             return command(self, dbname, spec, slave_ok,\n\u001b[0m\u001b[1;32m    684\u001b[0m                            \u001b[0mself\u001b[0m\u001b[0;34m.\u001b[0m\u001b[0mis_mongos\u001b[0m\u001b[0;34m,\u001b[0m \u001b[0mread_preference\u001b[0m\u001b[0;34m,\u001b[0m \u001b[0mcodec_options\u001b[0m\u001b[0;34m,\u001b[0m\u001b[0;34m\u001b[0m\u001b[0;34m\u001b[0m\u001b[0m\n\u001b[1;32m    685\u001b[0m                            \u001b[0msession\u001b[0m\u001b[0;34m,\u001b[0m \u001b[0mclient\u001b[0m\u001b[0;34m,\u001b[0m \u001b[0mcheck\u001b[0m\u001b[0;34m,\u001b[0m \u001b[0mallowable_errors\u001b[0m\u001b[0;34m,\u001b[0m\u001b[0;34m\u001b[0m\u001b[0;34m\u001b[0m\u001b[0m\n",
      "\u001b[0;32m~/.local/share/virtualenvs/code-AFz48Hjb/lib/python3.8/site-packages/pymongo/network.py\u001b[0m in \u001b[0;36mcommand\u001b[0;34m(sock_info, dbname, spec, slave_ok, is_mongos, read_preference, codec_options, session, client, check, allowable_errors, address, check_keys, listeners, max_bson_size, read_concern, parse_write_concern_error, collation, compression_ctx, use_op_msg, unacknowledged, user_fields, exhaust_allowed)\u001b[0m\n\u001b[1;32m    148\u001b[0m             \u001b[0mresponse_doc\u001b[0m \u001b[0;34m=\u001b[0m \u001b[0;34m{\u001b[0m\u001b[0;34m\"ok\"\u001b[0m\u001b[0;34m:\u001b[0m \u001b[0;36m1\u001b[0m\u001b[0;34m}\u001b[0m\u001b[0;34m\u001b[0m\u001b[0;34m\u001b[0m\u001b[0m\n\u001b[1;32m    149\u001b[0m         \u001b[0;32melse\u001b[0m\u001b[0;34m:\u001b[0m\u001b[0;34m\u001b[0m\u001b[0;34m\u001b[0m\u001b[0m\n\u001b[0;32m--> 150\u001b[0;31m             \u001b[0mreply\u001b[0m \u001b[0;34m=\u001b[0m \u001b[0mreceive_message\u001b[0m\u001b[0;34m(\u001b[0m\u001b[0msock_info\u001b[0m\u001b[0;34m,\u001b[0m \u001b[0mrequest_id\u001b[0m\u001b[0;34m)\u001b[0m\u001b[0;34m\u001b[0m\u001b[0;34m\u001b[0m\u001b[0m\n\u001b[0m\u001b[1;32m    151\u001b[0m             \u001b[0msock_info\u001b[0m\u001b[0;34m.\u001b[0m\u001b[0mmore_to_come\u001b[0m \u001b[0;34m=\u001b[0m \u001b[0mreply\u001b[0m\u001b[0;34m.\u001b[0m\u001b[0mmore_to_come\u001b[0m\u001b[0;34m\u001b[0m\u001b[0;34m\u001b[0m\u001b[0m\n\u001b[1;32m    152\u001b[0m             unpacked_docs = reply.unpack_response(\n",
      "\u001b[0;32m~/.local/share/virtualenvs/code-AFz48Hjb/lib/python3.8/site-packages/pymongo/network.py\u001b[0m in \u001b[0;36mreceive_message\u001b[0;34m(sock_info, request_id, max_message_size)\u001b[0m\n\u001b[1;32m    194\u001b[0m     \u001b[0;31m# Ignore the response's request id.\u001b[0m\u001b[0;34m\u001b[0m\u001b[0;34m\u001b[0m\u001b[0;34m\u001b[0m\u001b[0m\n\u001b[1;32m    195\u001b[0m     length, _, response_to, op_code = _UNPACK_HEADER(\n\u001b[0;32m--> 196\u001b[0;31m         _receive_data_on_socket(sock_info, 16, deadline))\n\u001b[0m\u001b[1;32m    197\u001b[0m     \u001b[0;31m# No request_id for exhaust cursor \"getMore\".\u001b[0m\u001b[0;34m\u001b[0m\u001b[0;34m\u001b[0m\u001b[0;34m\u001b[0m\u001b[0m\n\u001b[1;32m    198\u001b[0m     \u001b[0;32mif\u001b[0m \u001b[0mrequest_id\u001b[0m \u001b[0;32mis\u001b[0m \u001b[0;32mnot\u001b[0m \u001b[0;32mNone\u001b[0m\u001b[0;34m:\u001b[0m\u001b[0;34m\u001b[0m\u001b[0;34m\u001b[0m\u001b[0m\n",
      "\u001b[0;32m~/.local/share/virtualenvs/code-AFz48Hjb/lib/python3.8/site-packages/pymongo/network.py\u001b[0m in \u001b[0;36m_receive_data_on_socket\u001b[0;34m(sock_info, length, deadline)\u001b[0m\n\u001b[1;32m    291\u001b[0m                 \u001b[0;32mraise\u001b[0m\u001b[0;34m\u001b[0m\u001b[0;34m\u001b[0m\u001b[0m\n\u001b[1;32m    292\u001b[0m             \u001b[0;32mif\u001b[0m \u001b[0mchunk_length\u001b[0m \u001b[0;34m==\u001b[0m \u001b[0;36m0\u001b[0m\u001b[0;34m:\u001b[0m\u001b[0;34m\u001b[0m\u001b[0;34m\u001b[0m\u001b[0m\n\u001b[0;32m--> 293\u001b[0;31m                 \u001b[0;32mraise\u001b[0m \u001b[0mAutoReconnect\u001b[0m\u001b[0;34m(\u001b[0m\u001b[0;34m\"connection closed\"\u001b[0m\u001b[0;34m)\u001b[0m\u001b[0;34m\u001b[0m\u001b[0;34m\u001b[0m\u001b[0m\n\u001b[0m\u001b[1;32m    294\u001b[0m \u001b[0;34m\u001b[0m\u001b[0m\n\u001b[1;32m    295\u001b[0m             \u001b[0mbytes_read\u001b[0m \u001b[0;34m+=\u001b[0m \u001b[0mchunk_length\u001b[0m\u001b[0;34m\u001b[0m\u001b[0;34m\u001b[0m\u001b[0m\n",
      "\u001b[0;31mAutoReconnect\u001b[0m: connection closed"
     ]
    }
   ],
   "source": [
    "collection.create_index([(\"name\",  \"text\")])\n",
    "cur = collection.aggregate([\n",
    "    {\"$match\": {\"$text\": \"$search\": \"Sport\"}},\n",
    "    {\"$group\": {\"_id\": \"$name\", \"nb\": {\"$sum\" : 1}}}\n",
    "])\n",
    "list(cur)"
   ]
  },
  {
   "cell_type": "code",
   "execution_count": null,
   "metadata": {},
   "outputs": [],
   "source": []
  }
 ],
 "metadata": {
  "kernelspec": {
   "display_name": "Python 3",
   "language": "python",
   "name": "python3"
  },
  "language_info": {
   "codemirror_mode": {
    "name": "ipython",
    "version": 3
   },
   "file_extension": ".py",
   "mimetype": "text/x-python",
   "name": "python",
   "nbconvert_exporter": "python",
   "pygments_lexer": "ipython3",
   "version": "3.8.6"
  }
 },
 "nbformat": 4,
 "nbformat_minor": 4
}

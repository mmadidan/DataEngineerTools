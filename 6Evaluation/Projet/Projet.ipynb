{
 "cells": [
  {
   "cell_type": "code",
   "execution_count": 1,
   "metadata": {},
   "outputs": [],
   "source": [
    "import pandas as pd\n",
    "import pymongo"
   ]
  },
  {
   "cell_type": "code",
   "execution_count": 2,
   "metadata": {},
   "outputs": [
    {
     "name": "stdout",
     "output_type": "stream",
     "text": [
      "['admin', 'config', 'local']\n"
     ]
    },
    {
     "name": "stderr",
     "output_type": "stream",
     "text": [
      "<ipython-input-2-60c902b10f7d>:4: DeprecationWarning: database_names is deprecated. Use list_database_names instead.\n",
      "  print(client.database_names())\n"
     ]
    }
   ],
   "source": [
    "client = pymongo.MongoClient(\"mongo\")\n",
    "database = client['projet']\n",
    "collection = database['film']\n",
    "print(client.database_names())"
   ]
  },
  {
   "cell_type": "code",
   "execution_count": 4,
   "metadata": {},
   "outputs": [],
   "source": [
    "df_films = pd.read_csv('FILMS.csv')"
   ]
  },
  {
   "cell_type": "code",
   "execution_count": 5,
   "metadata": {},
   "outputs": [],
   "source": [
    "df_films = df_films.drop('Unnamed: 0',1)"
   ]
  },
  {
   "cell_type": "code",
   "execution_count": 6,
   "metadata": {},
   "outputs": [],
   "source": [
    "## Nettoyage de la dataframe ##\n",
    "\n",
    "df_films = df_films.fillna('\"Non\"')\n",
    "b = []\n",
    "for i in range(len(df_films['theme_production'])):\n",
    "        b.append(eval(df_films['theme_production'][i]))\n",
    "\n",
    "df_films = df_films.drop('theme_production',1)\n",
    "df_films.insert(2,'theme_production',b,True)\n",
    "b = []\n",
    "for i in range(len(df_films['Realisateur'])):\n",
    "    b.append(eval(df_films['Realisateur'][i]))\n",
    "df_films = df_films.drop('Realisateur',1)\n",
    "df_films.insert(4,'Realisateur',b,True)\n",
    "b = []\n",
    "for i in range(len(df_films['acteurs_principaux'])):\n",
    "    b.append(eval(df_films['acteurs_principaux'][i]))\n",
    "df_films = df_films.drop('acteurs_principaux',1)\n",
    "df_films.insert(7,'acteurs_principaux',b,True)\n",
    "b = []\n",
    "for i in range(len(df_films['charts'])):\n",
    "    b.append(eval(df_films['charts'][i]))\n",
    "df_films = df_films.drop('charts',1)\n",
    "df_films.insert(8,'charts',b,True)\n",
    "b = []\n",
    "for i in range(len(df_films['charts_IMDB'])):\n",
    "    b.append(eval(df_films['charts_IMDB'][i]))\n",
    "df_films = df_films.drop('charts_IMDB',1)\n",
    "df_films.insert(10,'charts_IMDB',b,True)\n",
    "b = []\n",
    "for i in range(len(df_films['charts_IMDB'])):\n",
    "    b.append(eval(df_films['other_details'][i]))\n",
    "df_films = df_films.drop('other_details',1)\n",
    "df_films.insert(12,'other_details',b,True)\n",
    "b = []\n",
    "for i in range(len(df_films['theme_production'])):\n",
    "    try:\n",
    "        b.append(eval(df_films['theme_production'][i]))\n",
    "    except TypeError : \n",
    "        b.append(df_films['theme_production'][i])\n",
    "    except NameError : \n",
    "        b.append(df_films['theme_production'][i])\n",
    "for i in range(len(b)):\n",
    "    if b[i]!='Non':\n",
    "        b[i] = b[i][0]\n",
    "df_films = df_films.drop('theme_production',1)\n",
    "df_films.insert(2,'theme_production',b,True)\n",
    "b = []\n",
    "for i in range(len(df_films['Realisateur'])):\n",
    "    try:\n",
    "        b.append(eval(df_films['Realisateur'][i]))\n",
    "    except TypeError : \n",
    "        b.append(df_films['Realisateur'][i])\n",
    "    except NameError : \n",
    "        b.append(df_films['Realisateur'][i])\n",
    "for i in range(len(b)):\n",
    "    if b[i]!='Non':\n",
    "        b[i] = b[i][0]\n",
    "df_films = df_films.drop('Realisateur',1)\n",
    "df_films.insert(4,'Realisateur',b,True)\n",
    "b = []\n",
    "for i in range(len(df_films['other_details'])):\n",
    "    try:\n",
    "        b.append(eval(df_films['other_details'][i]))\n",
    "    except TypeError : \n",
    "        b.append(df_films['other_details'][i])\n",
    "    except NameError : \n",
    "        b.append(df_films['other_details'][i])\n",
    "for i in range(len(b)):\n",
    "    try:\n",
    "        b[i]['budget'] = int(b[i]['budget'][1:].replace(',',''))\n",
    "        b[i]['Cumulative_WW_Gross'] = int(b[i]['Cumulative_WW_Gross'][1:].replace(',',''))\n",
    "    except ValueError : \n",
    "        pass\n",
    "    except TypeError :\n",
    "        pass\n",
    "df_films = df_films.drop('other_details',1)\n",
    "df_films.insert(12,'other_details',b,True)\n",
    "df_films.drop_duplicates(subset =\"nom_film\", keep = 'first', inplace=True)"
   ]
  },
  {
   "cell_type": "code",
   "execution_count": null,
   "metadata": {},
   "outputs": [],
   "source": [
    "## Création de la Collection ##\n",
    "DOCUMENTS = df_films.to_dict('records')\n",
    "collection.insert_many(DOCUMENTS)"
   ]
  },
  {
   "cell_type": "code",
   "execution_count": null,
   "metadata": {},
   "outputs": [],
   "source": [
    "## Toutes les catégories de film présent dans la base de données ##\n",
    "\n",
    "theme = collection.distinct(\"theme_production\")\n",
    "list(theme)"
   ]
  },
  {
   "cell_type": "code",
   "execution_count": null,
   "metadata": {},
   "outputs": [],
   "source": [
    "nombre_de_films_par_theme = collection.aggregate([\n",
    "    {\"$group\" : {\"_id\": \"$theme_production\", \"nombre de films\" : {\"$sum\" : 1}}},\n",
    "    {\"$sort\" : {\"nombre de films\": -1}}\n",
    "    ])\n",
    "list(nombre_de_films_par_theme)"
   ]
  },
  {
   "cell_type": "code",
   "execution_count": null,
   "metadata": {},
   "outputs": [],
   "source": [
    "varProject = {\"_id\":0}"
   ]
  },
  {
   "cell_type": "code",
   "execution_count": null,
   "metadata": {},
   "outputs": [],
   "source": [
    "## Requête TOP 50 selon chaque catégorie ##\n",
    "\n",
    "TOP_Drame = collection.find({\"theme_production\":\"Drame\",\"charts.nombre_critiques\":{\"$gte\":5000}},varProject).sort([(\"charts.note_moyenne\", -1)]).limit(50)\n",
    "TOP_Action = collection.find({\"theme_production\":\"Action\",\"charts.nombre_critiques\":{\"$gte\":5000}},varProject).sort([(\"charts.note_moyenne\", -1)]).limit(50)\n",
    "TOP_Comédie = collection.find({\"theme_production\":\"Comédie\",\"charts.nombre_critiques\":{\"$gte\":5000}},varProject).sort([(\"charts.note_moyenne\", -1)]).limit(50)\n",
    "TOP_Animation = collection.find({\"theme_production\":\"Animation\",\"charts.nombre_critiques\":{\"$gte\":5000}},varProject).sort([(\"charts.note_moyenne\", -1)])\n",
    "TOP_Biopic = collection.find({\"theme_production\":\"Biopic\",\"charts.nombre_critiques\":{\"$gte\":5000}},varProject).sort([(\"charts.note_moyenne\", -1)])\n",
    "TOP_Comédie_dramatique = collection.find({\"theme_production\":\"Comédie dramatique\",\"charts.nombre_critiques\":{\"$gte\":5000}},varProject).sort([(\"charts.note_moyenne\", -1)])\n",
    "TOP_Aventure = collection.find({\"theme_production\":\"Aventure\",\"charts.nombre_critiques\":{\"$gte\":5000}},varProject).sort([(\"charts.note_moyenne\", -1)])\n",
    "TOP_Policier = collection.find({\"theme_production\":\"Policier\",\"charts.nombre_critiques\":{\"$gte\":5000}},varProject).sort([(\"charts.note_moyenne\", -1)])\n",
    "TOP_Thriller = collection.find({\"theme_production\":\"Thriller\",\"charts.nombre_critiques\":{\"$gte\":5000}},varProject).sort([(\"charts.note_moyenne\", -1)])\n",
    "TOP_Documentaire = collection.find({\"theme_production\":\"Non\",\"charts.nombre_critiques\":{\"$gte\":5000}},varProject).sort([(\"charts.note_moyenne\", -1)])\n",
    "TOP_Epouvante = collection.find({\"theme_production\":\"Épouvante-Horreur\",\"charts.nombre_critiques\":{\"$gte\":500}},varProject).sort([(\"charts.note_moyenne\", -1)])\n",
    "TOP_Science_fiction = collection.find({\"theme_production\":\"Science-fiction\",\"charts.nombre_critiques\":{\"$gte\":500}},varProject).sort([(\"charts.note_moyenne\", -1)])\n",
    "TOP_Fantastique = collection.find({\"theme_production\":\"Fantastique\",\"charts.nombre_critiques\":{\"$gte\":500}},varProject).sort([(\"charts.note_moyenne\", -1)])\n",
    "TOP_Western = collection.find({\"theme_production\":\"Western\",\"charts.nombre_critiques\":{\"$gte\":500}},varProject).sort([(\"charts.note_moyenne\", -1)])\n",
    "TOP_Comédie_musicale = collection.find({\"theme_production\":\"Comédie musicale\",\"charts.nombre_critiques\":{\"$gte\":500}},varProject).sort([(\"charts.note_moyenne\", -1)])\n",
    "TOP_Romance = collection.find({\"theme_production\":\"Romance\",\"charts.nombre_critiques\":{\"$gte\":500}},varProject).sort([(\"charts.note_moyenne\", -1)])\n",
    "TOP_Historique = collection.find({\"theme_production\":\"Historique\",\"charts.nombre_critiques\":{\"$gte\":500}},varProject).sort([(\"charts.note_moyenne\", -1)])\n",
    "TOP_Comédie_romantique = collection.find({\"theme_production\":\"Comédie romantique\",\"charts.nombre_critiques\":{\"$gte\":500}},varProject).sort([(\"charts.note_moyenne\", -1)])\n",
    "TOP_Gangster = collection.find({\"theme_production\":\"Gangster\",\"charts.nombre_critiques\":{\"$gte\":500}},varProject).sort([(\"charts.note_moyenne\", -1)])\n",
    "TOP_Expérimental = collection.find({\"theme_production\":\"Expérimental\",\"charts.nombre_critiques\":{\"$gte\":500}},varProject).sort([(\"charts.note_moyenne\", -1)])\n",
    "TOP_Arts_martiaux = collection.find({\"theme_production\":\"Arts martiaux\",\"charts.nombre_critiques\":{\"$gte\":500}},varProject).sort([(\"charts.note_moyenne\", -1)])\n",
    "TOP_Musique = collection.find({\"theme_production\":\"Musique\",\"charts.nombre_critiques\":{\"$gte\":500}},varProject).sort([(\"charts.note_moyenne\", -1)])\n",
    "TOP_Film_noir = collection.find({\"theme_production\":\"Film noir\",\"charts.nombre_critiques\":{\"$gte\":500}},varProject).sort([(\"charts.note_moyenne\", -1)])"
   ]
  },
  {
   "cell_type": "code",
   "execution_count": null,
   "metadata": {},
   "outputs": [],
   "source": [
    "## TOP 50 général ## \n",
    "\n",
    "TOP_FILMS_50 = collection.find({\"charts.nombre_critiques\":{\"$gte\":5000}},varProject).sort([(\"charts.note_moyenne\", -1)]).limit(50)\n",
    "list(TOP_FILMS)"
   ]
  },
  {
   "cell_type": "code",
   "execution_count": null,
   "metadata": {},
   "outputs": [],
   "source": [
    "## Les 10 Réalisateurs les plus représentés dans le TOP 50 général ##\n",
    "\n",
    "Réalisateurs = collection.aggregate([\n",
    "    {\"$match\": {\"charts.nombre_critiques\": {\"$gte\": 5000},\"charts.note_moyenne\" : {\"$gte\" : 7}}},\n",
    "    {\"$group\": {\"_id\": \"$Realisateur\", \"total\": {\"$sum\" : 1}}},\n",
    "    {\"$sort\" : { \"charts.note_moyenne\" : -1,\"total\" : -1}},\n",
    "    {\"$limit\" : 10}\n",
    "    ])\n",
    "list(Réalisateurs)"
   ]
  },
  {
   "cell_type": "code",
   "execution_count": null,
   "metadata": {},
   "outputs": [],
   "source": [
    "## Liste des films produits par les 10 meilleurs réalisateurs ## \n",
    "\n",
    "Denis_Villeneuve = collection.find({\"Realisateur\" : 'Denis Villeneuve'},varProject)\n",
    "Quentin_Tarantino = collection.find({\"Realisateur\" : 'Quentin Tarantino'},varProject)\n",
    "Damien_Chazelle = collection.find({\"Realisateur\" : 'Damien Chazelle'},varProject)\n",
    "Bong_Joon_ho = collection.find({\"Realisateur\" : 'Bong Joon-ho'},varProject)\n",
    "Nicolas_Bedos = collection.find({\"Realisateur\" : 'Nicolas Bedos'},varProject)\n",
    "Christopher_Nolan = collection.find({\"Realisateur\" : 'Christopher Nolan'},varProject)\n",
    "Wes_Anderson = collection.find({\"Realisateur\" : 'Wes Anderson'},varProject)\n",
    "Dean_Deblois = collection.find({\"Realisateur\" : 'Dean Deblois'},varProject)\n",
    "Noah_Baumbach = collection.find({\"Realisateur\" : 'Noah Baumbach'},varProject)\n",
    "Jean_Marc_Vallée = collection.find({\"Realisateur\" : 'Jean-Marc Vallée'},varProject)"
   ]
  },
  {
   "cell_type": "code",
   "execution_count": null,
   "metadata": {},
   "outputs": [],
   "source": [
    "## Tous les Box offices présents dans la base de données ## \n",
    "\n",
    "Box_office = collection.find({\"other_details.budget\":{\"$gte\":100000000}},varProject).sort([(\"other_details.budget\", -1)])\n",
    "len(list(Box_office))"
   ]
  },
  {
   "cell_type": "code",
   "execution_count": null,
   "metadata": {},
   "outputs": [],
   "source": [
    "## Les 50 Box office les plus lucratifs ## \n",
    "Best_Box_Office = collection.find({\"other_details.budget\":{\"$gte\":100000000}},varProject).sort([(\"other_details.Cumulative_WW_Gross\", -1),(\"charts.note_moyenne\", -1)]).limit(50)\n",
    "list(Best_Box_Office)"
   ]
  },
  {
   "cell_type": "code",
   "execution_count": null,
   "metadata": {},
   "outputs": [],
   "source": [
    "## Budget Moyen par Catégorie de film ##\n",
    "\n",
    "budget_moyen_theme = collection.aggregate([\n",
    "    {\"$group\" : {\"_id\" : \"$theme_production\", \"budget moyen\" : {\"$avg\" : \"$other_details.budget\"}}},\n",
    "    {\"$sort\" : {\"budget moyen\" : -1}}\n",
    "])\n",
    "list(budget_moyen_theme)"
   ]
  },
  {
   "cell_type": "code",
   "execution_count": null,
   "metadata": {},
   "outputs": [],
   "source": [
    "## Recette moyenne par Catégorie de film ##\n",
    "\n",
    "recette_moyen_theme = collection.aggregate([\n",
    "    {\"$group\" : {\"_id\" : \"$theme_production\", \"budget moyen\" : {\"$avg\" : \"$other_details.Cumulative_WW_Gross\"}}},\n",
    "    {\"$sort\" : {\"budget moyen\" : -1}}\n",
    "])\n",
    "list(recette_moyen_theme)"
   ]
  }
 ],
 "metadata": {
  "kernelspec": {
   "display_name": "Python 3",
   "language": "python",
   "name": "python3"
  },
  "language_info": {
   "codemirror_mode": {
    "name": "ipython",
    "version": 3
   },
   "file_extension": ".py",
   "mimetype": "text/x-python",
   "name": "python",
   "nbconvert_exporter": "python",
   "pygments_lexer": "ipython3",
   "version": "3.8.6"
  }
 },
 "nbformat": 4,
 "nbformat_minor": 4
}

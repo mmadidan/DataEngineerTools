{
 "cells": [
  {
   "cell_type": "code",
   "execution_count": 1,
   "metadata": {},
   "outputs": [],
   "source": [
    "import pandas as pd"
   ]
  },
  {
   "cell_type": "code",
   "execution_count": 12,
   "metadata": {},
   "outputs": [],
   "source": [
    "df_2013 = pd.read_csv(\"data/2013.csv\")\n",
    "df_2014 = pd.read_csv(\"data/2014.csv\")\n",
    "df_2015 = pd.read_csv(\"data/2015.csv\")\n",
    "df_2016 = pd.read_csv(\"data/2016.csv\")\n",
    "df_2017 = pd.read_csv(\"data/2017.csv\")\n",
    "df_2018 = pd.read_csv(\"data/2018.csv\")\n",
    "df_2019 = pd.read_csv(\"data/2019.csv\")"
   ]
  },
  {
   "cell_type": "code",
   "execution_count": 19,
   "metadata": {},
   "outputs": [],
   "source": [
    "df = pd.concat([df_2019,df_2018,df_2017,df_2016,df_2015,df_2014,df_2013])"
   ]
  },
  {
   "cell_type": "code",
   "execution_count": 26,
   "metadata": {},
   "outputs": [],
   "source": [
    "df.to_csv(\"data/FILMS.csv\")"
   ]
  },
  {
   "cell_type": "code",
   "execution_count": null,
   "metadata": {},
   "outputs": [],
   "source": [
    "theme = collection.aggregate([\n",
    "    {\"$group\" : {\"_id\": \"$theme_production\", \"nb\" : {\"$sum\" : 1}}}\n",
    "    ])\n",
    "list(theme)"
   ]
  }
 ],
 "metadata": {
  "kernelspec": {
   "display_name": "Python 3",
   "language": "python",
   "name": "python3"
  },
  "language_info": {
   "codemirror_mode": {
    "name": "ipython",
    "version": 3
   },
   "file_extension": ".py",
   "mimetype": "text/x-python",
   "name": "python",
   "nbconvert_exporter": "python",
   "pygments_lexer": "ipython3",
   "version": "3.8.6"
  }
 },
 "nbformat": 4,
 "nbformat_minor": 4
}
